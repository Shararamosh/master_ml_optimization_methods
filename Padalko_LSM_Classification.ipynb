{
 "cells": [
  {
   "cell_type": "markdown",
   "id": "6fd108d8-b159-4d56-abdc-cb5e1fcf53f5",
   "metadata": {},
   "source": [
    "Падалко Богдан.\n",
    "Задание №3 - Классификация методом линейной регрессии для 2 классов (метод наименьших квадратов)."
   ]
  },
  {
   "cell_type": "code",
   "execution_count": 1,
   "id": "919830e1-668c-4be5-95b1-4bf7bad86616",
   "metadata": {},
   "outputs": [],
   "source": [
    "import pandas as pd\n",
    "import numpy as np\n",
    "from sklearn import datasets\n",
    "import matplotlib.pyplot as plt\n",
    "%matplotlib inline\n",
    "np.random.seed(42)\n",
    "limit_to_2D = True"
   ]
  },
  {
   "cell_type": "markdown",
   "id": "61b8738e-e8bd-46a3-858b-a480e13e518b",
   "metadata": {},
   "source": [
    "Я использовал датасет \"Ирисы Фишера\"."
   ]
  },
  {
   "cell_type": "code",
   "execution_count": 2,
   "id": "4f81cb21-1a85-43c6-b1b0-ab77cd8cd26a",
   "metadata": {},
   "outputs": [
    {
     "data": {
      "text/html": [
       "<div>\n",
       "<style scoped>\n",
       "    .dataframe tbody tr th:only-of-type {\n",
       "        vertical-align: middle;\n",
       "    }\n",
       "\n",
       "    .dataframe tbody tr th {\n",
       "        vertical-align: top;\n",
       "    }\n",
       "\n",
       "    .dataframe thead th {\n",
       "        text-align: right;\n",
       "    }\n",
       "</style>\n",
       "<table border=\"1\" class=\"dataframe\">\n",
       "  <thead>\n",
       "    <tr style=\"text-align: right;\">\n",
       "      <th></th>\n",
       "      <th>sepal width (cm)</th>\n",
       "      <th>petal width (cm)</th>\n",
       "      <th>species</th>\n",
       "    </tr>\n",
       "  </thead>\n",
       "  <tbody>\n",
       "    <tr>\n",
       "      <th>0</th>\n",
       "      <td>3.5</td>\n",
       "      <td>0.2</td>\n",
       "      <td>0</td>\n",
       "    </tr>\n",
       "    <tr>\n",
       "      <th>1</th>\n",
       "      <td>3.0</td>\n",
       "      <td>0.2</td>\n",
       "      <td>0</td>\n",
       "    </tr>\n",
       "    <tr>\n",
       "      <th>2</th>\n",
       "      <td>3.2</td>\n",
       "      <td>0.2</td>\n",
       "      <td>0</td>\n",
       "    </tr>\n",
       "    <tr>\n",
       "      <th>3</th>\n",
       "      <td>3.1</td>\n",
       "      <td>0.2</td>\n",
       "      <td>0</td>\n",
       "    </tr>\n",
       "    <tr>\n",
       "      <th>4</th>\n",
       "      <td>3.6</td>\n",
       "      <td>0.2</td>\n",
       "      <td>0</td>\n",
       "    </tr>\n",
       "    <tr>\n",
       "      <th>...</th>\n",
       "      <td>...</td>\n",
       "      <td>...</td>\n",
       "      <td>...</td>\n",
       "    </tr>\n",
       "    <tr>\n",
       "      <th>145</th>\n",
       "      <td>3.0</td>\n",
       "      <td>2.3</td>\n",
       "      <td>2</td>\n",
       "    </tr>\n",
       "    <tr>\n",
       "      <th>146</th>\n",
       "      <td>2.5</td>\n",
       "      <td>1.9</td>\n",
       "      <td>2</td>\n",
       "    </tr>\n",
       "    <tr>\n",
       "      <th>147</th>\n",
       "      <td>3.0</td>\n",
       "      <td>2.0</td>\n",
       "      <td>2</td>\n",
       "    </tr>\n",
       "    <tr>\n",
       "      <th>148</th>\n",
       "      <td>3.4</td>\n",
       "      <td>2.3</td>\n",
       "      <td>2</td>\n",
       "    </tr>\n",
       "    <tr>\n",
       "      <th>149</th>\n",
       "      <td>3.0</td>\n",
       "      <td>1.8</td>\n",
       "      <td>2</td>\n",
       "    </tr>\n",
       "  </tbody>\n",
       "</table>\n",
       "<p>150 rows × 3 columns</p>\n",
       "</div>"
      ],
      "text/plain": [
       "     sepal width (cm)  petal width (cm)  species\n",
       "0                 3.5               0.2        0\n",
       "1                 3.0               0.2        0\n",
       "2                 3.2               0.2        0\n",
       "3                 3.1               0.2        0\n",
       "4                 3.6               0.2        0\n",
       "..                ...               ...      ...\n",
       "145               3.0               2.3        2\n",
       "146               2.5               1.9        2\n",
       "147               3.0               2.0        2\n",
       "148               3.4               2.3        2\n",
       "149               3.0               1.8        2\n",
       "\n",
       "[150 rows x 3 columns]"
      ]
     },
     "metadata": {},
     "output_type": "display_data"
    }
   ],
   "source": [
    "iris = datasets.load_iris()\n",
    "X = iris.data \n",
    "target = iris.target \n",
    "names = iris.target_names\n",
    "df_original = pd.DataFrame(X, columns = iris.feature_names)\n",
    "df_original['species'] = iris.target\n",
    "if limit_to_2D:\n",
    "    df_original.drop(df_original.columns[np.random.randint(len(df_original.columns)-1)], axis = 1, inplace = True)\n",
    "    df_original.drop(df_original.columns[np.random.randint(len(df_original.columns)-1)], axis = 1, inplace = True)\n",
    "display(df_original)"
   ]
  },
  {
   "cell_type": "code",
   "execution_count": 3,
   "id": "846fe819-b5b0-4e1c-8afd-f14fa8f055c6",
   "metadata": {},
   "outputs": [
    {
     "data": {
      "text/html": [
       "<div>\n",
       "<style scoped>\n",
       "    .dataframe tbody tr th:only-of-type {\n",
       "        vertical-align: middle;\n",
       "    }\n",
       "\n",
       "    .dataframe tbody tr th {\n",
       "        vertical-align: top;\n",
       "    }\n",
       "\n",
       "    .dataframe thead th {\n",
       "        text-align: right;\n",
       "    }\n",
       "</style>\n",
       "<table border=\"1\" class=\"dataframe\">\n",
       "  <thead>\n",
       "    <tr style=\"text-align: right;\">\n",
       "      <th></th>\n",
       "      <th>sepal width (cm)</th>\n",
       "      <th>petal width (cm)</th>\n",
       "      <th>species</th>\n",
       "    </tr>\n",
       "  </thead>\n",
       "  <tbody>\n",
       "    <tr>\n",
       "      <th>0</th>\n",
       "      <td>3.5</td>\n",
       "      <td>0.2</td>\n",
       "      <td>-1</td>\n",
       "    </tr>\n",
       "    <tr>\n",
       "      <th>1</th>\n",
       "      <td>3.0</td>\n",
       "      <td>0.2</td>\n",
       "      <td>-1</td>\n",
       "    </tr>\n",
       "    <tr>\n",
       "      <th>2</th>\n",
       "      <td>3.2</td>\n",
       "      <td>0.2</td>\n",
       "      <td>-1</td>\n",
       "    </tr>\n",
       "    <tr>\n",
       "      <th>3</th>\n",
       "      <td>3.1</td>\n",
       "      <td>0.2</td>\n",
       "      <td>-1</td>\n",
       "    </tr>\n",
       "    <tr>\n",
       "      <th>4</th>\n",
       "      <td>3.6</td>\n",
       "      <td>0.2</td>\n",
       "      <td>-1</td>\n",
       "    </tr>\n",
       "    <tr>\n",
       "      <th>...</th>\n",
       "      <td>...</td>\n",
       "      <td>...</td>\n",
       "      <td>...</td>\n",
       "    </tr>\n",
       "    <tr>\n",
       "      <th>145</th>\n",
       "      <td>3.0</td>\n",
       "      <td>2.3</td>\n",
       "      <td>1</td>\n",
       "    </tr>\n",
       "    <tr>\n",
       "      <th>146</th>\n",
       "      <td>2.5</td>\n",
       "      <td>1.9</td>\n",
       "      <td>1</td>\n",
       "    </tr>\n",
       "    <tr>\n",
       "      <th>147</th>\n",
       "      <td>3.0</td>\n",
       "      <td>2.0</td>\n",
       "      <td>1</td>\n",
       "    </tr>\n",
       "    <tr>\n",
       "      <th>148</th>\n",
       "      <td>3.4</td>\n",
       "      <td>2.3</td>\n",
       "      <td>1</td>\n",
       "    </tr>\n",
       "    <tr>\n",
       "      <th>149</th>\n",
       "      <td>3.0</td>\n",
       "      <td>1.8</td>\n",
       "      <td>1</td>\n",
       "    </tr>\n",
       "  </tbody>\n",
       "</table>\n",
       "<p>150 rows × 3 columns</p>\n",
       "</div>"
      ],
      "text/plain": [
       "     sepal width (cm)  petal width (cm)  species\n",
       "0                 3.5               0.2       -1\n",
       "1                 3.0               0.2       -1\n",
       "2                 3.2               0.2       -1\n",
       "3                 3.1               0.2       -1\n",
       "4                 3.6               0.2       -1\n",
       "..                ...               ...      ...\n",
       "145               3.0               2.3        1\n",
       "146               2.5               1.9        1\n",
       "147               3.0               2.0        1\n",
       "148               3.4               2.3        1\n",
       "149               3.0               1.8        1\n",
       "\n",
       "[150 rows x 3 columns]"
      ]
     },
     "metadata": {},
     "output_type": "display_data"
    }
   ],
   "source": [
    "df = df_original.copy()\n",
    "df['species'].replace(to_replace = [0, 1, 2], value = [-1, 1, 1], inplace = True)\n",
    "display(df)"
   ]
  },
  {
   "cell_type": "code",
   "execution_count": 4,
   "id": "6a6344c6-6d6b-4a8e-8ea3-d47b8aa2c98c",
   "metadata": {},
   "outputs": [
    {
     "name": "stdout",
     "output_type": "stream",
     "text": [
      "[[ 3.428  0.246 -1.   ]\n",
      " [ 2.872  1.676  1.   ]]\n"
     ]
    }
   ],
   "source": [
    "data_mean = np.zeros((2, df.shape[1]))\n",
    "for i in range(0, 2):\n",
    "    data_mean[i, -1] = 2*i-1\n",
    "    for j in range(0, data_mean.shape[1]-1):\n",
    "        data_mean[i, j] = df[df['species'] == data_mean[i, data_mean.shape[1]-1]].iloc[:, j].mean()\n",
    "print(data_mean)\n",
    "data_mean = np.delete(data_mean, -1, axis = 1)"
   ]
  },
  {
   "cell_type": "code",
   "execution_count": 5,
   "id": "1d4d5024-0543-488b-a57b-ac951f780853",
   "metadata": {},
   "outputs": [],
   "source": [
    "def Diff_Square_Distance(x, y, l, alpha):\n",
    "    f = np.zeros(l.shape)\n",
    "    for i in range(0, x.shape[0]):\n",
    "        temp = np.dot(l, x[i])\n",
    "        temp = np.sign(temp)\n",
    "        temp = temp-y[i]\n",
    "        temp = temp*x[i]\n",
    "        f = f+temp\n",
    "    f = f+alpha*l\n",
    "    f = 2.0*f\n",
    "    return f"
   ]
  },
  {
   "cell_type": "code",
   "execution_count": 6,
   "id": "88a49bf7-9a6e-43cb-bf08-31844105775e",
   "metadata": {},
   "outputs": [],
   "source": [
    "max_iterations = 100\n",
    "eps = 0.001\n",
    "alpha = 2.0"
   ]
  },
  {
   "cell_type": "code",
   "execution_count": 7,
   "id": "6dc602f6-4cf5-4211-bdab-a8ff72118b29",
   "metadata": {},
   "outputs": [],
   "source": [
    "x = df.drop('species', axis = 1).values.astype(float)\n",
    "y = df['species'].values"
   ]
  },
  {
   "cell_type": "code",
   "execution_count": 8,
   "id": "474f7867-b4ae-4778-8b50-6dae73cb0927",
   "metadata": {},
   "outputs": [],
   "source": [
    "def LSM_Classification(x, y, init):\n",
    "    i = 0\n",
    "    l = init[0]-init[1]\n",
    "    l = l/np.linalg.norm(l)\n",
    "    print(\"Начальное значение l:\", l)\n",
    "    while i < max_iterations:\n",
    "        i += 1\n",
    "        h = 1.0/np.power(i, alpha)\n",
    "        old_l = np.copy(l)\n",
    "        f = Diff_Square_Distance(x, y, l, alpha)\n",
    "        l = l-h*f\n",
    "        l = l/np.linalg.norm(l)\n",
    "        if np.linalg.norm(l-old_l) <= eps:\n",
    "            break\n",
    "    print(\"Пройдено итераций при обучении: \"+str(i)+\".\")\n",
    "    return l\n",
    "def LSM_Predict(x, l):\n",
    "    y = np.zeros(x.shape[0])\n",
    "    for i in range(x.shape[0]):\n",
    "        y[i] = np.dot(l, x[i])\n",
    "        y[i] = np.sign(y[i])\n",
    "    return y"
   ]
  },
  {
   "cell_type": "code",
   "execution_count": 9,
   "id": "11bffcb8-2fdb-4a64-b3a6-324ab27947c8",
   "metadata": {},
   "outputs": [],
   "source": [
    "from sklearn.model_selection import train_test_split\n",
    "from sklearn.metrics import accuracy_score\n",
    "x_train, x_test, y_train, y_test = train_test_split(x, y, test_size = 0.5, random_state = 2, shuffle = True)"
   ]
  },
  {
   "cell_type": "code",
   "execution_count": 10,
   "id": "eea1c261-dd34-4e28-aa1c-12038cc4e941",
   "metadata": {},
   "outputs": [
    {
     "name": "stdout",
     "output_type": "stream",
     "text": [
      "Начальное значение l: [ 0.36238336 -0.93202913]\n",
      "Пройдено итераций при обучении: 24.\n"
     ]
    }
   ],
   "source": [
    "w0_12 = LSM_Classification(x_train, y_train, data_mean)"
   ]
  },
  {
   "cell_type": "code",
   "execution_count": 11,
   "id": "53cdef86-8b8e-491e-9f7d-66a36a953fe4",
   "metadata": {},
   "outputs": [
    {
     "name": "stdout",
     "output_type": "stream",
     "text": [
      "Конечное значение l: [-0.21330757  0.9769851 ]\n",
      "Точность: 100%.\n"
     ]
    }
   ],
   "source": [
    "print(\"Конечное значение l:\", w0_12)\n",
    "y_predict = LSM_Predict(x_test, w0_12)\n",
    "print(\"Точность: \"+str(int(accuracy_score(y_test, y_predict)*100))+\"%.\")"
   ]
  },
  {
   "cell_type": "code",
   "execution_count": 12,
   "id": "8add9d47-cf10-46d0-a5ed-1c210f503900",
   "metadata": {},
   "outputs": [
    {
     "data": {
      "image/png": "[encoded data removed]",
      "text/plain": [
       "<Figure size 432x288 with 1 Axes>"
      ]
     },
     "metadata": {
      "needs_background": "light"
     },
     "output_type": "display_data"
    }
   ],
   "source": [
    "fig = plt.figure()\n",
    "for i in range(x_train.shape[0]):\n",
    "    if y_train[i] == -1:\n",
    "        plt.scatter(x_train[i][0], x_train[i][1], s = 120, marker = '.', linewidths = 0.5, color = 'blue') #Тренировочная выборка класса 0.\n",
    "    else:\n",
    "        plt.scatter(x_train[i][0], x_train[i][1], s = 120, marker = '.', linewidths = 0.5, color = 'green') #Тренировочная выборка класса 1 или 2.\n",
    "for i in range(x_test.shape[0]):\n",
    "    if y_predict[i] == -1:\n",
    "        if y_predict[i] != y_test[i]:\n",
    "            plt.scatter(x_test[i][0], x_test[i][1], s = 120, marker = '*', linewidths = 0.5, color = 'darkblue') #Ошибочное распознание как класс 0.\n",
    "        else:\n",
    "            plt.scatter(x_test[i][0], x_test[i][1], s = 120, marker = '*', linewidths = 0.5, color = 'blue') #Правильное распознание как класс 1 или 2.\n",
    "    else:\n",
    "        if y_predict[i] != y_test[i]:\n",
    "            plt.scatter(x_test[i][0], x_test[i][1], s = 120, marker = '*', linewidths = 0.5, color = 'darkgreen') #Ошибочное распознание как класс 0.\n",
    "        else:\n",
    "            plt.scatter(x_test[i][0], x_test[i][1], s = 120, marker = '*', linewidths = 0.5, color = 'green') #Правильное распознание как класс 1 или 2.\n",
    "if limit_to_2D:\n",
    "    y_func = lambda x, l: (-1.0*l[0]*x)/l[1]\n",
    "    x_min = np.amin(x)\n",
    "    x_max = np.amax(x)\n",
    "    plt.plot([x_min, x_max], [y_func(x_min, w0_12), y_func(x_max, w0_12)], color = 'red')"
   ]
  },
  {
   "cell_type": "markdown",
   "id": "af4489fd-fe3c-4855-9134-437759bcb9f0",
   "metadata": {},
   "source": [
    "Задание №4 - Модификация классификации методом наименьших квадратов для 3 классов."
   ]
  },
  {
   "cell_type": "markdown",
   "id": "1702ae07-71a0-46e1-bbb9-b155293cadf4",
   "metadata": {},
   "source": [
    "В данный момент один из классов представляет собой объединение двух классов. Для построения полной классификации ирисов Фишера разъединим эти 2 класса (а если точнее - удалим из исходного датасета данные об одном классе) и построим решающее правило методом гиперплоскостей только для них. Классы закодируем числами -1 и 1 как и в предыдущем задании."
   ]
  },
  {
   "cell_type": "code",
   "execution_count": 13,
   "id": "7da5d1d4-0f2f-4486-8f51-521f3c3b6bf3",
   "metadata": {},
   "outputs": [
    {
     "data": {
      "text/html": [
       "<div>\n",
       "<style scoped>\n",
       "    .dataframe tbody tr th:only-of-type {\n",
       "        vertical-align: middle;\n",
       "    }\n",
       "\n",
       "    .dataframe tbody tr th {\n",
       "        vertical-align: top;\n",
       "    }\n",
       "\n",
       "    .dataframe thead th {\n",
       "        text-align: right;\n",
       "    }\n",
       "</style>\n",
       "<table border=\"1\" class=\"dataframe\">\n",
       "  <thead>\n",
       "    <tr style=\"text-align: right;\">\n",
       "      <th></th>\n",
       "      <th>sepal width (cm)</th>\n",
       "      <th>petal width (cm)</th>\n",
       "      <th>species</th>\n",
       "    </tr>\n",
       "  </thead>\n",
       "  <tbody>\n",
       "    <tr>\n",
       "      <th>50</th>\n",
       "      <td>3.2</td>\n",
       "      <td>1.4</td>\n",
       "      <td>-1</td>\n",
       "    </tr>\n",
       "    <tr>\n",
       "      <th>51</th>\n",
       "      <td>3.2</td>\n",
       "      <td>1.5</td>\n",
       "      <td>-1</td>\n",
       "    </tr>\n",
       "    <tr>\n",
       "      <th>52</th>\n",
       "      <td>3.1</td>\n",
       "      <td>1.5</td>\n",
       "      <td>-1</td>\n",
       "    </tr>\n",
       "    <tr>\n",
       "      <th>53</th>\n",
       "      <td>2.3</td>\n",
       "      <td>1.3</td>\n",
       "      <td>-1</td>\n",
       "    </tr>\n",
       "    <tr>\n",
       "      <th>54</th>\n",
       "      <td>2.8</td>\n",
       "      <td>1.5</td>\n",
       "      <td>-1</td>\n",
       "    </tr>\n",
       "    <tr>\n",
       "      <th>...</th>\n",
       "      <td>...</td>\n",
       "      <td>...</td>\n",
       "      <td>...</td>\n",
       "    </tr>\n",
       "    <tr>\n",
       "      <th>145</th>\n",
       "      <td>3.0</td>\n",
       "      <td>2.3</td>\n",
       "      <td>1</td>\n",
       "    </tr>\n",
       "    <tr>\n",
       "      <th>146</th>\n",
       "      <td>2.5</td>\n",
       "      <td>1.9</td>\n",
       "      <td>1</td>\n",
       "    </tr>\n",
       "    <tr>\n",
       "      <th>147</th>\n",
       "      <td>3.0</td>\n",
       "      <td>2.0</td>\n",
       "      <td>1</td>\n",
       "    </tr>\n",
       "    <tr>\n",
       "      <th>148</th>\n",
       "      <td>3.4</td>\n",
       "      <td>2.3</td>\n",
       "      <td>1</td>\n",
       "    </tr>\n",
       "    <tr>\n",
       "      <th>149</th>\n",
       "      <td>3.0</td>\n",
       "      <td>1.8</td>\n",
       "      <td>1</td>\n",
       "    </tr>\n",
       "  </tbody>\n",
       "</table>\n",
       "<p>100 rows × 3 columns</p>\n",
       "</div>"
      ],
      "text/plain": [
       "     sepal width (cm)  petal width (cm)  species\n",
       "50                3.2               1.4       -1\n",
       "51                3.2               1.5       -1\n",
       "52                3.1               1.5       -1\n",
       "53                2.3               1.3       -1\n",
       "54                2.8               1.5       -1\n",
       "..                ...               ...      ...\n",
       "145               3.0               2.3        1\n",
       "146               2.5               1.9        1\n",
       "147               3.0               2.0        1\n",
       "148               3.4               2.3        1\n",
       "149               3.0               1.8        1\n",
       "\n",
       "[100 rows x 3 columns]"
      ]
     },
     "metadata": {},
     "output_type": "display_data"
    }
   ],
   "source": [
    "df = df_original.copy()\n",
    "df.drop(df.loc[df['species'] == 0].index, inplace = True)\n",
    "df['species'].replace(to_replace = [1, 2], value = [-1, 1], inplace = True)\n",
    "display(df)"
   ]
  },
  {
   "cell_type": "code",
   "execution_count": 14,
   "id": "454ee8e7-cf77-4b71-be05-ec31d7bbfb5f",
   "metadata": {},
   "outputs": [],
   "source": [
    "x = df.drop('species', axis = 1).values.astype(float)\n",
    "y = df['species'].values"
   ]
  },
  {
   "cell_type": "code",
   "execution_count": 15,
   "id": "8adc8043-6ff0-4613-a124-02c5323ea53b",
   "metadata": {},
   "outputs": [],
   "source": [
    "x_train, x_test, y_train, y_test = train_test_split(x, y, test_size = 0.5, random_state = 2, shuffle = True)"
   ]
  },
  {
   "cell_type": "code",
   "execution_count": 16,
   "id": "18376fd1-1339-424a-b9b0-e61b63f691ef",
   "metadata": {},
   "outputs": [
    {
     "name": "stdout",
     "output_type": "stream",
     "text": [
      "[[ 2.77   1.326 -1.   ]\n",
      " [ 2.974  2.026  1.   ]]\n"
     ]
    }
   ],
   "source": [
    "data_mean = np.zeros((2, df.shape[1]))\n",
    "for i in range(0, 2):\n",
    "    data_mean[i, -1] = 2*i-1\n",
    "    for j in range(0, data_mean.shape[1]-1):\n",
    "        data_mean[i, j] = df[df['species'] == data_mean[i, data_mean.shape[1]-1]].iloc[:, j].mean()\n",
    "print(data_mean)\n",
    "data_mean = np.delete(data_mean, -1, axis = 1)"
   ]
  },
  {
   "cell_type": "code",
   "execution_count": 17,
   "id": "5c95330f-595b-440c-be9a-bee2c0681369",
   "metadata": {},
   "outputs": [
    {
     "name": "stdout",
     "output_type": "stream",
     "text": [
      "Начальное значение l: [-0.27978933 -0.96006142]\n",
      "Пройдено итераций при обучении: 61.\n"
     ]
    }
   ],
   "source": [
    "w1_2 = LSM_Classification(x_train, y_train, data_mean)"
   ]
  },
  {
   "cell_type": "code",
   "execution_count": 18,
   "id": "14ef38c3-cc5a-4e50-978d-3d486d1b7fd4",
   "metadata": {},
   "outputs": [
    {
     "name": "stdout",
     "output_type": "stream",
     "text": [
      "Конечное значение l: [-0.49187061  0.87066831]\n",
      "Точность: 88%.\n"
     ]
    }
   ],
   "source": [
    "print(\"Конечное значение l:\", w1_2)\n",
    "y_predict = LSM_Predict(x_test, w1_2)\n",
    "print(\"Точность: \"+str(int(accuracy_score(y_test, y_predict)*100))+\"%.\")"
   ]
  },
  {
   "cell_type": "code",
   "execution_count": 19,
   "id": "088062ae-9fc8-423b-80ad-c8ec6027f123",
   "metadata": {},
   "outputs": [
    {
     "data": {
      "image/png": "[encoded data removed]",
      "text/plain": [
       "<Figure size 432x288 with 1 Axes>"
      ]
     },
     "metadata": {
      "needs_background": "light"
     },
     "output_type": "display_data"
    }
   ],
   "source": [
    "fig = plt.figure()\n",
    "for i in range(x_train.shape[0]):\n",
    "    if y_train[i] == -1:\n",
    "        plt.scatter(x_train[i][0], x_train[i][1], s = 120, marker = '.', linewidths = 0.5, color = 'blue') #Тренировочная выборка класса 1.\n",
    "    else:\n",
    "        plt.scatter(x_train[i][0], x_train[i][1], s = 120, marker = '.', linewidths = 0.5, color = 'green') #Тренировочная выборка класса 2.\n",
    "for i in range(x_test.shape[0]):\n",
    "    if y_predict[i] == -1:\n",
    "        if y_predict[i] != y_test[i]:\n",
    "            plt.scatter(x_test[i][0], x_test[i][1], s = 120, marker = '*', linewidths = 0.5, color = 'darkblue') #Ошибочное распознание как класс 1.\n",
    "        else:\n",
    "            plt.scatter(x_test[i][0], x_test[i][1], s = 120, marker = '*', linewidths = 0.5, color = 'blue') #Правильное распознание как класс 1.\n",
    "    else:\n",
    "        if y_predict[i] != y_test[i]:\n",
    "            plt.scatter(x_test[i][0], x_test[i][1], s = 120, marker = '*', linewidths = 0.5, color = 'darkgreen') #Ошибочное распознание как класс 2.\n",
    "        else:\n",
    "            plt.scatter(x_test[i][0], x_test[i][1], s = 120, marker = '*', linewidths = 0.5, color = 'green') #Правильное распознание как класс 2.\n",
    "if limit_to_2D:\n",
    "    y_func = lambda x, l: (-1.0*l[0]*x)/l[1]\n",
    "    x_min = np.amin(x)\n",
    "    x_max = np.amax(x)\n",
    "    plt.plot([x_min, x_max], [y_func(x_min, w1_2), y_func(x_max, w1_2)], color = 'red')"
   ]
  },
  {
   "cell_type": "markdown",
   "id": "ae57501a-2f9e-4d30-8ddc-14954aeae01a",
   "metadata": {},
   "source": [
    "Используя оба найденных решающих правила, применим их ко всему датасету."
   ]
  },
  {
   "cell_type": "code",
   "execution_count": 20,
   "id": "d5543297-f202-44d8-b441-c27859cbaba7",
   "metadata": {},
   "outputs": [
    {
     "data": {
      "text/html": [
       "<div>\n",
       "<style scoped>\n",
       "    .dataframe tbody tr th:only-of-type {\n",
       "        vertical-align: middle;\n",
       "    }\n",
       "\n",
       "    .dataframe tbody tr th {\n",
       "        vertical-align: top;\n",
       "    }\n",
       "\n",
       "    .dataframe thead th {\n",
       "        text-align: right;\n",
       "    }\n",
       "</style>\n",
       "<table border=\"1\" class=\"dataframe\">\n",
       "  <thead>\n",
       "    <tr style=\"text-align: right;\">\n",
       "      <th></th>\n",
       "      <th>sepal width (cm)</th>\n",
       "      <th>petal width (cm)</th>\n",
       "      <th>species</th>\n",
       "    </tr>\n",
       "  </thead>\n",
       "  <tbody>\n",
       "    <tr>\n",
       "      <th>0</th>\n",
       "      <td>3.5</td>\n",
       "      <td>0.2</td>\n",
       "      <td>0</td>\n",
       "    </tr>\n",
       "    <tr>\n",
       "      <th>1</th>\n",
       "      <td>3.0</td>\n",
       "      <td>0.2</td>\n",
       "      <td>0</td>\n",
       "    </tr>\n",
       "    <tr>\n",
       "      <th>2</th>\n",
       "      <td>3.2</td>\n",
       "      <td>0.2</td>\n",
       "      <td>0</td>\n",
       "    </tr>\n",
       "    <tr>\n",
       "      <th>3</th>\n",
       "      <td>3.1</td>\n",
       "      <td>0.2</td>\n",
       "      <td>0</td>\n",
       "    </tr>\n",
       "    <tr>\n",
       "      <th>4</th>\n",
       "      <td>3.6</td>\n",
       "      <td>0.2</td>\n",
       "      <td>0</td>\n",
       "    </tr>\n",
       "    <tr>\n",
       "      <th>...</th>\n",
       "      <td>...</td>\n",
       "      <td>...</td>\n",
       "      <td>...</td>\n",
       "    </tr>\n",
       "    <tr>\n",
       "      <th>145</th>\n",
       "      <td>3.0</td>\n",
       "      <td>2.3</td>\n",
       "      <td>2</td>\n",
       "    </tr>\n",
       "    <tr>\n",
       "      <th>146</th>\n",
       "      <td>2.5</td>\n",
       "      <td>1.9</td>\n",
       "      <td>2</td>\n",
       "    </tr>\n",
       "    <tr>\n",
       "      <th>147</th>\n",
       "      <td>3.0</td>\n",
       "      <td>2.0</td>\n",
       "      <td>2</td>\n",
       "    </tr>\n",
       "    <tr>\n",
       "      <th>148</th>\n",
       "      <td>3.4</td>\n",
       "      <td>2.3</td>\n",
       "      <td>2</td>\n",
       "    </tr>\n",
       "    <tr>\n",
       "      <th>149</th>\n",
       "      <td>3.0</td>\n",
       "      <td>1.8</td>\n",
       "      <td>2</td>\n",
       "    </tr>\n",
       "  </tbody>\n",
       "</table>\n",
       "<p>150 rows × 3 columns</p>\n",
       "</div>"
      ],
      "text/plain": [
       "     sepal width (cm)  petal width (cm)  species\n",
       "0                 3.5               0.2        0\n",
       "1                 3.0               0.2        0\n",
       "2                 3.2               0.2        0\n",
       "3                 3.1               0.2        0\n",
       "4                 3.6               0.2        0\n",
       "..                ...               ...      ...\n",
       "145               3.0               2.3        2\n",
       "146               2.5               1.9        2\n",
       "147               3.0               2.0        2\n",
       "148               3.4               2.3        2\n",
       "149               3.0               1.8        2\n",
       "\n",
       "[150 rows x 3 columns]"
      ]
     },
     "metadata": {},
     "output_type": "display_data"
    }
   ],
   "source": [
    "df = df_original.copy()\n",
    "display(df)"
   ]
  },
  {
   "cell_type": "code",
   "execution_count": 21,
   "id": "c60b873e-0208-4174-b0d4-aac8cbf616da",
   "metadata": {},
   "outputs": [],
   "source": [
    "x = df.drop('species', axis = 1).values.astype(float)\n",
    "y = df['species'].values"
   ]
  },
  {
   "cell_type": "code",
   "execution_count": 22,
   "id": "3e4747a3-7774-45d8-a984-966a3e9bd7bf",
   "metadata": {},
   "outputs": [
    {
     "name": "stdout",
     "output_type": "stream",
     "text": [
      "Итоговая точность разделения: 92%.\n"
     ]
    },
    {
     "data": {
      "image/png": "[encoded data removed]",
      "text/plain": [
       "<Figure size 432x288 with 1 Axes>"
      ]
     },
     "metadata": {
      "needs_background": "light"
     },
     "output_type": "display_data"
    }
   ],
   "source": [
    "y_predict_first = LSM_Predict(x, w0_12)\n",
    "y_predict_second = LSM_Predict(x, w1_2)\n",
    "fig = plt.figure()\n",
    "for i in range(x.shape[0]):\n",
    "    if y_predict_first[i] == -1:\n",
    "        if y[i] != 0:\n",
    "            plt.scatter(x[i][0], x[i][1], s = 120, marker = '.', linewidths = 0.5, color = 'darkred') #Ошибочное распознание как класс 0.\n",
    "        else:\n",
    "            plt.scatter(x[i][0], x[i][1], s = 120, marker = '.', linewidths = 0.5, color = 'red') #Правильное распознание как класс 0.\n",
    "    else:\n",
    "        if y_predict_second[i] == -1:\n",
    "            if y[i] != 1:\n",
    "                plt.scatter(x[i][0], x[i][1], s = 120, marker = '.', linewidths = 0.5, color = 'darkgreen') #Ошибочное распознание как класс 1.\n",
    "            else:\n",
    "                plt.scatter(x[i][0], x[i][1], s = 120, marker = '.', linewidths = 0.5, color = 'green') #Правильное распознание как класс 1.\n",
    "        else:\n",
    "            if y[i] != 2:\n",
    "                plt.scatter(x[i][0], x[i][1], s = 120, marker = '.', linewidths = 0.5, color = 'darkblue') #Ошибочное распознание как класс 2.\n",
    "            else:\n",
    "                plt.scatter(x[i][0], x[i][1], s = 120, marker = '.', linewidths = 0.5, color = 'blue') #Правильное распознание как класс 2.\n",
    "if limit_to_2D:\n",
    "    y_func = lambda x, l: (-1.0*l[0]*x)/l[1]\n",
    "    x_min = np.amin(x)\n",
    "    x_max = np.amax(x)\n",
    "    plt.plot([x_min, x_max], [y_func(x_min, w0_12), y_func(x_max, w0_12)], color = 'purple')\n",
    "    plt.plot([x_min, x_max], [y_func(x_min, w1_2), y_func(x_max, w1_2)], color = 'orange')\n",
    "y_predict_first[y_predict_first == -1] = 0\n",
    "y_predict_second[y_predict_second == 1] = 2\n",
    "y_predict_second[y_predict_second == -1] = 1\n",
    "y_predict_final = np.multiply(y_predict_first, y_predict_second)\n",
    "print(\"Итоговая точность разделения: \"+str(int(accuracy_score(y, y_predict_final)*100))+\"%.\")"
   ]
  }
 ],
 "metadata": {
  "kernelspec": {
   "display_name": "Python 3 (ipykernel)",
   "language": "python",
   "name": "python3"
  },
  "language_info": {
   "codemirror_mode": {
    "name": "ipython",
    "version": 3
   },
   "file_extension": ".py",
   "mimetype": "text/x-python",
   "name": "python",
   "nbconvert_exporter": "python",
   "pygments_lexer": "ipython3",
   "version": "3.10.4"
  }
 },
 "nbformat": 4,
 "nbformat_minor": 5
}
