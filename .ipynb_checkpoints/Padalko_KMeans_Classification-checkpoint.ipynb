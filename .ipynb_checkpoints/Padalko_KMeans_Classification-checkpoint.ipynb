{
 "cells": [
  {
   "cell_type": "markdown",
   "id": "f8e8acea-1843-41ca-ab69-820ce4947b67",
   "metadata": {},
   "source": [
    "Падалко Богдан.\n",
    "Задание №5 - Классификация методом K-средних. K = 2 (два класса)."
   ]
  },
  {
   "cell_type": "code",
   "execution_count": 1,
   "id": "02d81b4d-d5ac-4473-b8ae-0a901426f0ec",
   "metadata": {},
   "outputs": [],
   "source": [
    "import pandas as pd\n",
    "import numpy as np\n",
    "from sklearn import datasets\n",
    "from sklearn.metrics import accuracy_score\n",
    "import matplotlib.pyplot as plt\n",
    "%matplotlib inline\n",
    "random_seed = 42\n",
    "np.random.seed(random_seed)\n",
    "limit_to_2D = True"
   ]
  },
  {
   "cell_type": "code",
   "execution_count": 2,
   "id": "5473fc7b-257b-4c5d-8bcf-8ec852558f49",
   "metadata": {},
   "outputs": [
    {
     "data": {
      "text/html": [
       "<div>\n",
       "<style scoped>\n",
       "    .dataframe tbody tr th:only-of-type {\n",
       "        vertical-align: middle;\n",
       "    }\n",
       "\n",
       "    .dataframe tbody tr th {\n",
       "        vertical-align: top;\n",
       "    }\n",
       "\n",
       "    .dataframe thead th {\n",
       "        text-align: right;\n",
       "    }\n",
       "</style>\n",
       "<table border=\"1\" class=\"dataframe\">\n",
       "  <thead>\n",
       "    <tr style=\"text-align: right;\">\n",
       "      <th></th>\n",
       "      <th>sepal width (cm)</th>\n",
       "      <th>petal width (cm)</th>\n",
       "      <th>species</th>\n",
       "    </tr>\n",
       "  </thead>\n",
       "  <tbody>\n",
       "    <tr>\n",
       "      <th>0</th>\n",
       "      <td>3.5</td>\n",
       "      <td>0.2</td>\n",
       "      <td>0</td>\n",
       "    </tr>\n",
       "    <tr>\n",
       "      <th>1</th>\n",
       "      <td>3.0</td>\n",
       "      <td>0.2</td>\n",
       "      <td>0</td>\n",
       "    </tr>\n",
       "    <tr>\n",
       "      <th>2</th>\n",
       "      <td>3.2</td>\n",
       "      <td>0.2</td>\n",
       "      <td>0</td>\n",
       "    </tr>\n",
       "    <tr>\n",
       "      <th>3</th>\n",
       "      <td>3.1</td>\n",
       "      <td>0.2</td>\n",
       "      <td>0</td>\n",
       "    </tr>\n",
       "    <tr>\n",
       "      <th>4</th>\n",
       "      <td>3.6</td>\n",
       "      <td>0.2</td>\n",
       "      <td>0</td>\n",
       "    </tr>\n",
       "    <tr>\n",
       "      <th>...</th>\n",
       "      <td>...</td>\n",
       "      <td>...</td>\n",
       "      <td>...</td>\n",
       "    </tr>\n",
       "    <tr>\n",
       "      <th>145</th>\n",
       "      <td>3.0</td>\n",
       "      <td>2.3</td>\n",
       "      <td>2</td>\n",
       "    </tr>\n",
       "    <tr>\n",
       "      <th>146</th>\n",
       "      <td>2.5</td>\n",
       "      <td>1.9</td>\n",
       "      <td>2</td>\n",
       "    </tr>\n",
       "    <tr>\n",
       "      <th>147</th>\n",
       "      <td>3.0</td>\n",
       "      <td>2.0</td>\n",
       "      <td>2</td>\n",
       "    </tr>\n",
       "    <tr>\n",
       "      <th>148</th>\n",
       "      <td>3.4</td>\n",
       "      <td>2.3</td>\n",
       "      <td>2</td>\n",
       "    </tr>\n",
       "    <tr>\n",
       "      <th>149</th>\n",
       "      <td>3.0</td>\n",
       "      <td>1.8</td>\n",
       "      <td>2</td>\n",
       "    </tr>\n",
       "  </tbody>\n",
       "</table>\n",
       "<p>150 rows × 3 columns</p>\n",
       "</div>"
      ],
      "text/plain": [
       "     sepal width (cm)  petal width (cm)  species\n",
       "0                 3.5               0.2        0\n",
       "1                 3.0               0.2        0\n",
       "2                 3.2               0.2        0\n",
       "3                 3.1               0.2        0\n",
       "4                 3.6               0.2        0\n",
       "..                ...               ...      ...\n",
       "145               3.0               2.3        2\n",
       "146               2.5               1.9        2\n",
       "147               3.0               2.0        2\n",
       "148               3.4               2.3        2\n",
       "149               3.0               1.8        2\n",
       "\n",
       "[150 rows x 3 columns]"
      ]
     },
     "metadata": {},
     "output_type": "display_data"
    }
   ],
   "source": [
    "iris = datasets.load_iris()\n",
    "X = iris.data \n",
    "target = iris.target \n",
    "names = iris.target_names\n",
    "df_original = pd.DataFrame(X, columns = iris.feature_names)\n",
    "df_original['species'] = iris.target\n",
    "if limit_to_2D:\n",
    "    df_original.drop(df_original.columns[np.random.randint(len(df_original.columns)-1)], axis = 1, inplace = True)\n",
    "    df_original.drop(df_original.columns[np.random.randint(len(df_original.columns)-1)], axis = 1, inplace = True)\n",
    "display(df_original)"
   ]
  },
  {
   "cell_type": "code",
   "execution_count": 3,
   "id": "8b2b93d8-abc8-4750-8574-6b1ee3c9d251",
   "metadata": {},
   "outputs": [
    {
     "data": {
      "text/html": [
       "<div>\n",
       "<style scoped>\n",
       "    .dataframe tbody tr th:only-of-type {\n",
       "        vertical-align: middle;\n",
       "    }\n",
       "\n",
       "    .dataframe tbody tr th {\n",
       "        vertical-align: top;\n",
       "    }\n",
       "\n",
       "    .dataframe thead th {\n",
       "        text-align: right;\n",
       "    }\n",
       "</style>\n",
       "<table border=\"1\" class=\"dataframe\">\n",
       "  <thead>\n",
       "    <tr style=\"text-align: right;\">\n",
       "      <th></th>\n",
       "      <th>sepal width (cm)</th>\n",
       "      <th>petal width (cm)</th>\n",
       "      <th>species</th>\n",
       "    </tr>\n",
       "  </thead>\n",
       "  <tbody>\n",
       "    <tr>\n",
       "      <th>0</th>\n",
       "      <td>3.5</td>\n",
       "      <td>0.2</td>\n",
       "      <td>0</td>\n",
       "    </tr>\n",
       "    <tr>\n",
       "      <th>1</th>\n",
       "      <td>3.0</td>\n",
       "      <td>0.2</td>\n",
       "      <td>0</td>\n",
       "    </tr>\n",
       "    <tr>\n",
       "      <th>2</th>\n",
       "      <td>3.2</td>\n",
       "      <td>0.2</td>\n",
       "      <td>0</td>\n",
       "    </tr>\n",
       "    <tr>\n",
       "      <th>3</th>\n",
       "      <td>3.1</td>\n",
       "      <td>0.2</td>\n",
       "      <td>0</td>\n",
       "    </tr>\n",
       "    <tr>\n",
       "      <th>4</th>\n",
       "      <td>3.6</td>\n",
       "      <td>0.2</td>\n",
       "      <td>0</td>\n",
       "    </tr>\n",
       "    <tr>\n",
       "      <th>...</th>\n",
       "      <td>...</td>\n",
       "      <td>...</td>\n",
       "      <td>...</td>\n",
       "    </tr>\n",
       "    <tr>\n",
       "      <th>145</th>\n",
       "      <td>3.0</td>\n",
       "      <td>2.3</td>\n",
       "      <td>1</td>\n",
       "    </tr>\n",
       "    <tr>\n",
       "      <th>146</th>\n",
       "      <td>2.5</td>\n",
       "      <td>1.9</td>\n",
       "      <td>1</td>\n",
       "    </tr>\n",
       "    <tr>\n",
       "      <th>147</th>\n",
       "      <td>3.0</td>\n",
       "      <td>2.0</td>\n",
       "      <td>1</td>\n",
       "    </tr>\n",
       "    <tr>\n",
       "      <th>148</th>\n",
       "      <td>3.4</td>\n",
       "      <td>2.3</td>\n",
       "      <td>1</td>\n",
       "    </tr>\n",
       "    <tr>\n",
       "      <th>149</th>\n",
       "      <td>3.0</td>\n",
       "      <td>1.8</td>\n",
       "      <td>1</td>\n",
       "    </tr>\n",
       "  </tbody>\n",
       "</table>\n",
       "<p>150 rows × 3 columns</p>\n",
       "</div>"
      ],
      "text/plain": [
       "     sepal width (cm)  petal width (cm)  species\n",
       "0                 3.5               0.2        0\n",
       "1                 3.0               0.2        0\n",
       "2                 3.2               0.2        0\n",
       "3                 3.1               0.2        0\n",
       "4                 3.6               0.2        0\n",
       "..                ...               ...      ...\n",
       "145               3.0               2.3        1\n",
       "146               2.5               1.9        1\n",
       "147               3.0               2.0        1\n",
       "148               3.4               2.3        1\n",
       "149               3.0               1.8        1\n",
       "\n",
       "[150 rows x 3 columns]"
      ]
     },
     "metadata": {},
     "output_type": "display_data"
    }
   ],
   "source": [
    "df = df_original.copy()\n",
    "df['species'].replace(to_replace = [0, 1, 2], value = [0, 1, 1], inplace = True)\n",
    "display(df)"
   ]
  },
  {
   "cell_type": "code",
   "execution_count": 4,
   "id": "ba4ee9f4-8ee2-4bf9-af23-6ac0fb499bf2",
   "metadata": {},
   "outputs": [],
   "source": [
    "x = df.drop('species', axis = 1).values.astype(float)\n",
    "y = df['species'].values"
   ]
  },
  {
   "cell_type": "code",
   "execution_count": 5,
   "id": "87c7bede-8a99-48c3-b3aa-5c3c22d64145",
   "metadata": {},
   "outputs": [
    {
     "name": "stdout",
     "output_type": "stream",
     "text": [
      "[[3.8 0.3 0. ]\n",
      " [2.8 1.2 1. ]]\n"
     ]
    }
   ],
   "source": [
    "x_center = df.sample(2, random_state = random_seed).values.astype(float)\n",
    "x_center = x_center[x_center[:, -1].argsort()]\n",
    "print(x_center)"
   ]
  },
  {
   "cell_type": "code",
   "execution_count": 6,
   "id": "0e90aca4-6823-4ec9-82ec-5e30c1ba6a20",
   "metadata": {},
   "outputs": [
    {
     "data": {
      "text/plain": [
       "<matplotlib.collections.PathCollection at 0x167c16c1ae0>"
      ]
     },
     "execution_count": 6,
     "metadata": {},
     "output_type": "execute_result"
    },
    {
     "data": {
      "image/png": "[encoded data removed]",
      "text/plain": [
       "<Figure size 432x288 with 1 Axes>"
      ]
     },
     "metadata": {
      "needs_background": "light"
     },
     "output_type": "display_data"
    }
   ],
   "source": [
    "for i in range(x.shape[0]):\n",
    "    if y[i] == 0:\n",
    "        plt.scatter(x[i][0], x[i][1], s = 120, marker = '.', linewidths = 0.5, color = 'red')\n",
    "    else:\n",
    "        plt.scatter(x[i][0], x[i][1], s = 120, marker = '.', linewidths = 0.5, color = 'green')\n",
    "plt.scatter(x_center[0][0], x_center[0][1], s = 120, marker = '*', linewidths = 1.0, color = 'darkred')\n",
    "plt.scatter(x_center[1][0], x_center[1][1], s = 120, marker = '*', linewidths = 1.0, color = 'darkgreen')"
   ]
  },
  {
   "cell_type": "code",
   "execution_count": 7,
   "id": "e5045774-b0c4-49ca-ae29-5d1a7beb614d",
   "metadata": {},
   "outputs": [],
   "source": [
    "def dist_to_center(point, center):\n",
    "    return np.linalg.norm(point-center)"
   ]
  },
  {
   "cell_type": "code",
   "execution_count": 8,
   "id": "4a47d910-7e3b-4ff2-9f51-08ca003478fd",
   "metadata": {},
   "outputs": [],
   "source": [
    "def assign_point_clusters(x, centers):\n",
    "    new_x = x.copy()\n",
    "    for i in range(0, new_x.shape[0]):\n",
    "        possible_centers = [dist_to_center(new_x[i][0:-1], center) for center in centers]\n",
    "        new_x[i][-1] = possible_centers.index(min(possible_centers))\n",
    "    return new_x"
   ]
  },
  {
   "cell_type": "code",
   "execution_count": 9,
   "id": "d3847ecf-168d-4b0f-8d58-850fbe684b03",
   "metadata": {},
   "outputs": [],
   "source": [
    "max_iterations = 100\n",
    "eps = 0.001"
   ]
  },
  {
   "cell_type": "code",
   "execution_count": 10,
   "id": "b1c7ad2a-7dbd-4dca-9156-c0362f90081d",
   "metadata": {},
   "outputs": [],
   "source": [
    "def KMeans_Classification(x, centers):\n",
    "    i = 0\n",
    "    while i < max_iterations:\n",
    "        i += 1\n",
    "        x = assign_point_clusters(x, centers)\n",
    "        new_centers = np.zeros(centers.shape)\n",
    "        for j in range(0, centers.shape[0]):\n",
    "            s = np.zeros(centers[j].shape)\n",
    "            n = 0\n",
    "            for k in range(0, x.shape[0]):\n",
    "                if x[k][-1] == j:\n",
    "                    n += 1\n",
    "                    s += x[k][0:-1]\n",
    "            s /= n\n",
    "            new_centers[j] = s\n",
    "        if np.linalg.norm(new_centers-centers) <= eps:\n",
    "            break\n",
    "        centers = new_centers.copy()\n",
    "    print(\"Пройдено итераций: \"+str(i)+\".\")\n",
    "    return x, centers"
   ]
  },
  {
   "cell_type": "code",
   "execution_count": 11,
   "id": "39829190-8d9f-47e8-990d-36c0a6308476",
   "metadata": {},
   "outputs": [
    {
     "name": "stdout",
     "output_type": "stream",
     "text": [
      "Пройдено итераций: 3.\n",
      "Точность кластеризации: 100%.\n"
     ]
    },
    {
     "data": {
      "image/png": "[encoded data removed]",
      "text/plain": [
       "<Figure size 432x288 with 1 Axes>"
      ]
     },
     "metadata": {
      "needs_background": "light"
     },
     "output_type": "display_data"
    }
   ],
   "source": [
    "x_center = np.delete(x_center, -1, axis = 1)\n",
    "x = np.append(x, np.zeros((x.shape[0], 1)), axis = 1)\n",
    "x_new, x_center_new = KMeans_Classification(x, x_center)\n",
    "for i in range(x_new.shape[0]):\n",
    "    if x_new[i][-1] == 0:\n",
    "        plt.scatter(x_new[i][0], x_new[i][1], s = 120, marker = '.', linewidths = 0.5, color = 'red')\n",
    "    else:\n",
    "        plt.scatter(x_new[i][0], x_new[i][1], s = 120, marker = '.', linewidths = 0.5, color = 'green')\n",
    "plt.scatter(x_center_new[0][0], x_center_new[0][1], s = 120, marker = '*', linewidths = 1.0, color = 'darkred')\n",
    "plt.scatter(x_center_new[1][0], x_center_new[1][1], s = 120, marker = '*', linewidths = 1.0, color = 'darkgreen')\n",
    "print(\"Точность кластеризации: \"+str(int(accuracy_score(y, x_new[:, -1])*100))+\"%.\")"
   ]
  },
  {
   "cell_type": "markdown",
   "id": "fbdfec7c-f858-4170-a4ff-55baa5282578",
   "metadata": {},
   "source": [
    "Задание №6 - Классификация методом K-средних. K = 3 (три класса)."
   ]
  },
  {
   "cell_type": "code",
   "execution_count": 12,
   "id": "dbc340a1-b21c-435b-b4e8-05330c7fc768",
   "metadata": {},
   "outputs": [
    {
     "data": {
      "text/html": [
       "<div>\n",
       "<style scoped>\n",
       "    .dataframe tbody tr th:only-of-type {\n",
       "        vertical-align: middle;\n",
       "    }\n",
       "\n",
       "    .dataframe tbody tr th {\n",
       "        vertical-align: top;\n",
       "    }\n",
       "\n",
       "    .dataframe thead th {\n",
       "        text-align: right;\n",
       "    }\n",
       "</style>\n",
       "<table border=\"1\" class=\"dataframe\">\n",
       "  <thead>\n",
       "    <tr style=\"text-align: right;\">\n",
       "      <th></th>\n",
       "      <th>sepal width (cm)</th>\n",
       "      <th>petal width (cm)</th>\n",
       "      <th>species</th>\n",
       "    </tr>\n",
       "  </thead>\n",
       "  <tbody>\n",
       "    <tr>\n",
       "      <th>0</th>\n",
       "      <td>3.5</td>\n",
       "      <td>0.2</td>\n",
       "      <td>0</td>\n",
       "    </tr>\n",
       "    <tr>\n",
       "      <th>1</th>\n",
       "      <td>3.0</td>\n",
       "      <td>0.2</td>\n",
       "      <td>0</td>\n",
       "    </tr>\n",
       "    <tr>\n",
       "      <th>2</th>\n",
       "      <td>3.2</td>\n",
       "      <td>0.2</td>\n",
       "      <td>0</td>\n",
       "    </tr>\n",
       "    <tr>\n",
       "      <th>3</th>\n",
       "      <td>3.1</td>\n",
       "      <td>0.2</td>\n",
       "      <td>0</td>\n",
       "    </tr>\n",
       "    <tr>\n",
       "      <th>4</th>\n",
       "      <td>3.6</td>\n",
       "      <td>0.2</td>\n",
       "      <td>0</td>\n",
       "    </tr>\n",
       "    <tr>\n",
       "      <th>...</th>\n",
       "      <td>...</td>\n",
       "      <td>...</td>\n",
       "      <td>...</td>\n",
       "    </tr>\n",
       "    <tr>\n",
       "      <th>145</th>\n",
       "      <td>3.0</td>\n",
       "      <td>2.3</td>\n",
       "      <td>2</td>\n",
       "    </tr>\n",
       "    <tr>\n",
       "      <th>146</th>\n",
       "      <td>2.5</td>\n",
       "      <td>1.9</td>\n",
       "      <td>2</td>\n",
       "    </tr>\n",
       "    <tr>\n",
       "      <th>147</th>\n",
       "      <td>3.0</td>\n",
       "      <td>2.0</td>\n",
       "      <td>2</td>\n",
       "    </tr>\n",
       "    <tr>\n",
       "      <th>148</th>\n",
       "      <td>3.4</td>\n",
       "      <td>2.3</td>\n",
       "      <td>2</td>\n",
       "    </tr>\n",
       "    <tr>\n",
       "      <th>149</th>\n",
       "      <td>3.0</td>\n",
       "      <td>1.8</td>\n",
       "      <td>2</td>\n",
       "    </tr>\n",
       "  </tbody>\n",
       "</table>\n",
       "<p>150 rows × 3 columns</p>\n",
       "</div>"
      ],
      "text/plain": [
       "     sepal width (cm)  petal width (cm)  species\n",
       "0                 3.5               0.2        0\n",
       "1                 3.0               0.2        0\n",
       "2                 3.2               0.2        0\n",
       "3                 3.1               0.2        0\n",
       "4                 3.6               0.2        0\n",
       "..                ...               ...      ...\n",
       "145               3.0               2.3        2\n",
       "146               2.5               1.9        2\n",
       "147               3.0               2.0        2\n",
       "148               3.4               2.3        2\n",
       "149               3.0               1.8        2\n",
       "\n",
       "[150 rows x 3 columns]"
      ]
     },
     "metadata": {},
     "output_type": "display_data"
    }
   ],
   "source": [
    "df = df_original.copy()\n",
    "display(df)"
   ]
  },
  {
   "cell_type": "code",
   "execution_count": 13,
   "id": "7ef1eb4c-7f8c-4f99-9881-7cdb79c0b35d",
   "metadata": {},
   "outputs": [],
   "source": [
    "x = df.drop('species', axis = 1).values.astype(float)\n",
    "y = df['species'].values"
   ]
  },
  {
   "cell_type": "code",
   "execution_count": 14,
   "id": "8bcc16ae-01ae-4d1d-9161-5d7aa1979af4",
   "metadata": {},
   "outputs": [
    {
     "name": "stdout",
     "output_type": "stream",
     "text": [
      "[[3.8 0.3 0. ]\n",
      " [2.8 1.2 1. ]\n",
      " [2.6 2.3 2. ]]\n"
     ]
    }
   ],
   "source": [
    "x_center = df.sample(3, random_state = random_seed).values.astype(float)\n",
    "x_center = x_center[x_center[:, -1].argsort()]\n",
    "print(x_center)"
   ]
  },
  {
   "cell_type": "code",
   "execution_count": null,
   "id": "341660a6-2199-4511-b692-f6f233f71885",
   "metadata": {},
   "outputs": [
    {
     "data": {
      "text/plain": [
       "<matplotlib.collections.PathCollection at 0x167c1cb0c10>"
      ]
     },
     "execution_count": 15,
     "metadata": {},
     "output_type": "execute_result"
    }
   ],
   "source": [
    "for i in range(x.shape[0]):\n",
    "    if y[i] == 0:\n",
    "        plt.scatter(x[i][0], x[i][1], s = 120, marker = '.', linewidths = 0.5, color = 'red')\n",
    "    elif y[i] == 1:\n",
    "        plt.scatter(x[i][0], x[i][1], s = 120, marker = '.', linewidths = 0.5, color = 'green')\n",
    "    else:\n",
    "        plt.scatter(x[i][0], x[i][1], s = 120, marker = '.', linewidths = 0.5, color = 'blue')\n",
    "plt.scatter(x_center[0][0], x_center[0][1], s = 120, marker = '*', linewidths = 1.0, color = 'darkred')\n",
    "plt.scatter(x_center[1][0], x_center[1][1], s = 120, marker = '*', linewidths = 1.0, color = 'darkgreen')\n",
    "plt.scatter(x_center[2][0], x_center[2][1], s = 120, marker = '*', linewidths = 1.0, color = 'darkblue')"
   ]
  },
  {
   "cell_type": "code",
   "execution_count": null,
   "id": "66f05969-5da5-430d-9362-4f976546d6ab",
   "metadata": {},
   "outputs": [],
   "source": [
    "x_center = np.delete(x_center, -1, axis = 1)\n",
    "x = np.append(x, np.zeros((x.shape[0], 1)), axis = 1)\n",
    "x_new, x_center_new = KMeans_Classification(x, x_center)\n",
    "for i in range(x_new.shape[0]):\n",
    "    if x_new[i][-1] == 0:\n",
    "        plt.scatter(x_new[i][0], x_new[i][1], s = 120, marker = '.', linewidths = 0.5, color = 'red')\n",
    "    elif x_new[i][-1] == 1:\n",
    "        plt.scatter(x_new[i][0], x_new[i][1], s = 120, marker = '.', linewidths = 0.5, color = 'green')\n",
    "    else:\n",
    "        plt.scatter(x_new[i][0], x_new[i][1], s = 120, marker = '.', linewidths = 0.5, color = 'blue')\n",
    "plt.scatter(x_center_new[0][0], x_center_new[0][1], s = 120, marker = '*', linewidths = 1.0, color = 'darkred')\n",
    "plt.scatter(x_center_new[1][0], x_center_new[1][1], s = 120, marker = '*', linewidths = 1.0, color = 'darkgreen')\n",
    "plt.scatter(x_center_new[2][0], x_center_new[2][1], s = 120, marker = '*', linewidths = 1.0, color = 'darkblue')\n",
    "print(\"Точность кластеризации: \"+str(int(accuracy_score(y, x_new[:, -1])*100))+\"%.\")"
   ]
  }
 ],
 "metadata": {
  "kernelspec": {
   "display_name": "Python 3 (ipykernel)",
   "language": "python",
   "name": "python3"
  },
  "language_info": {
   "codemirror_mode": {
    "name": "ipython",
    "version": 3
   },
   "file_extension": ".py",
   "mimetype": "text/x-python",
   "name": "python",
   "nbconvert_exporter": "python",
   "pygments_lexer": "ipython3",
   "version": "3.10.4"
  }
 },
 "nbformat": 4,
 "nbformat_minor": 5
}
