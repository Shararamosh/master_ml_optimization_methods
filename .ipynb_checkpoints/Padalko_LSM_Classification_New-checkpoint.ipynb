{
 "cells": [
  {
   "cell_type": "markdown",
   "id": "6fd108d8-b159-4d56-abdc-cb5e1fcf53f5",
   "metadata": {},
   "source": [
    "Падалко Богдан.\n",
    "Задание №3 - Классификация методом линейной регрессии для 2 классов (метод наименьших квадратов)."
   ]
  },
  {
   "cell_type": "code",
   "execution_count": 1,
   "id": "919830e1-668c-4be5-95b1-4bf7bad86616",
   "metadata": {},
   "outputs": [],
   "source": [
    "import pandas as pd\n",
    "import numpy as np\n",
    "from sklearn import datasets\n",
    "import matplotlib.pyplot as plt\n",
    "%matplotlib inline"
   ]
  },
  {
   "cell_type": "markdown",
   "id": "61b8738e-e8bd-46a3-858b-a480e13e518b",
   "metadata": {},
   "source": [
    "Я использовал датасет \"Ирисы Фишера\"."
   ]
  },
  {
   "cell_type": "code",
   "execution_count": 2,
   "id": "4f81cb21-1a85-43c6-b1b0-ab77cd8cd26a",
   "metadata": {},
   "outputs": [
    {
     "data": {
      "text/html": [
       "<div>\n",
       "<style scoped>\n",
       "    .dataframe tbody tr th:only-of-type {\n",
       "        vertical-align: middle;\n",
       "    }\n",
       "\n",
       "    .dataframe tbody tr th {\n",
       "        vertical-align: top;\n",
       "    }\n",
       "\n",
       "    .dataframe thead th {\n",
       "        text-align: right;\n",
       "    }\n",
       "</style>\n",
       "<table border=\"1\" class=\"dataframe\">\n",
       "  <thead>\n",
       "    <tr style=\"text-align: right;\">\n",
       "      <th></th>\n",
       "      <th>sepal length (cm)</th>\n",
       "      <th>sepal width (cm)</th>\n",
       "      <th>petal length (cm)</th>\n",
       "      <th>petal width (cm)</th>\n",
       "      <th>species</th>\n",
       "    </tr>\n",
       "  </thead>\n",
       "  <tbody>\n",
       "    <tr>\n",
       "      <th>0</th>\n",
       "      <td>5.1</td>\n",
       "      <td>3.5</td>\n",
       "      <td>1.4</td>\n",
       "      <td>0.2</td>\n",
       "      <td>0</td>\n",
       "    </tr>\n",
       "    <tr>\n",
       "      <th>1</th>\n",
       "      <td>4.9</td>\n",
       "      <td>3.0</td>\n",
       "      <td>1.4</td>\n",
       "      <td>0.2</td>\n",
       "      <td>0</td>\n",
       "    </tr>\n",
       "    <tr>\n",
       "      <th>2</th>\n",
       "      <td>4.7</td>\n",
       "      <td>3.2</td>\n",
       "      <td>1.3</td>\n",
       "      <td>0.2</td>\n",
       "      <td>0</td>\n",
       "    </tr>\n",
       "    <tr>\n",
       "      <th>3</th>\n",
       "      <td>4.6</td>\n",
       "      <td>3.1</td>\n",
       "      <td>1.5</td>\n",
       "      <td>0.2</td>\n",
       "      <td>0</td>\n",
       "    </tr>\n",
       "    <tr>\n",
       "      <th>4</th>\n",
       "      <td>5.0</td>\n",
       "      <td>3.6</td>\n",
       "      <td>1.4</td>\n",
       "      <td>0.2</td>\n",
       "      <td>0</td>\n",
       "    </tr>\n",
       "  </tbody>\n",
       "</table>\n",
       "</div>"
      ],
      "text/plain": [
       "   sepal length (cm)  sepal width (cm)  petal length (cm)  petal width (cm)  \\\n",
       "0                5.1               3.5                1.4               0.2   \n",
       "1                4.9               3.0                1.4               0.2   \n",
       "2                4.7               3.2                1.3               0.2   \n",
       "3                4.6               3.1                1.5               0.2   \n",
       "4                5.0               3.6                1.4               0.2   \n",
       "\n",
       "   species  \n",
       "0        0  \n",
       "1        0  \n",
       "2        0  \n",
       "3        0  \n",
       "4        0  "
      ]
     },
     "execution_count": 2,
     "metadata": {},
     "output_type": "execute_result"
    }
   ],
   "source": [
    "iris = datasets.load_iris()\n",
    "X = iris.data \n",
    "target = iris.target \n",
    "names = iris.target_names\n",
    "df = pd.DataFrame(X, columns = iris.feature_names)\n",
    "df['species'] = iris.target\n",
    "df.head()"
   ]
  },
  {
   "cell_type": "code",
   "execution_count": 3,
   "id": "846fe819-b5b0-4e1c-8afd-f14fa8f055c6",
   "metadata": {},
   "outputs": [
    {
     "data": {
      "text/html": [
       "<div>\n",
       "<style scoped>\n",
       "    .dataframe tbody tr th:only-of-type {\n",
       "        vertical-align: middle;\n",
       "    }\n",
       "\n",
       "    .dataframe tbody tr th {\n",
       "        vertical-align: top;\n",
       "    }\n",
       "\n",
       "    .dataframe thead th {\n",
       "        text-align: right;\n",
       "    }\n",
       "</style>\n",
       "<table border=\"1\" class=\"dataframe\">\n",
       "  <thead>\n",
       "    <tr style=\"text-align: right;\">\n",
       "      <th></th>\n",
       "      <th>sepal length (cm)</th>\n",
       "      <th>sepal width (cm)</th>\n",
       "      <th>petal length (cm)</th>\n",
       "      <th>petal width (cm)</th>\n",
       "      <th>species</th>\n",
       "    </tr>\n",
       "  </thead>\n",
       "  <tbody>\n",
       "    <tr>\n",
       "      <th>0</th>\n",
       "      <td>5.1</td>\n",
       "      <td>3.5</td>\n",
       "      <td>1.4</td>\n",
       "      <td>0.2</td>\n",
       "      <td>-1</td>\n",
       "    </tr>\n",
       "    <tr>\n",
       "      <th>1</th>\n",
       "      <td>4.9</td>\n",
       "      <td>3.0</td>\n",
       "      <td>1.4</td>\n",
       "      <td>0.2</td>\n",
       "      <td>-1</td>\n",
       "    </tr>\n",
       "    <tr>\n",
       "      <th>2</th>\n",
       "      <td>4.7</td>\n",
       "      <td>3.2</td>\n",
       "      <td>1.3</td>\n",
       "      <td>0.2</td>\n",
       "      <td>-1</td>\n",
       "    </tr>\n",
       "    <tr>\n",
       "      <th>3</th>\n",
       "      <td>4.6</td>\n",
       "      <td>3.1</td>\n",
       "      <td>1.5</td>\n",
       "      <td>0.2</td>\n",
       "      <td>-1</td>\n",
       "    </tr>\n",
       "    <tr>\n",
       "      <th>4</th>\n",
       "      <td>5.0</td>\n",
       "      <td>3.6</td>\n",
       "      <td>1.4</td>\n",
       "      <td>0.2</td>\n",
       "      <td>-1</td>\n",
       "    </tr>\n",
       "  </tbody>\n",
       "</table>\n",
       "</div>"
      ],
      "text/plain": [
       "   sepal length (cm)  sepal width (cm)  petal length (cm)  petal width (cm)  \\\n",
       "0                5.1               3.5                1.4               0.2   \n",
       "1                4.9               3.0                1.4               0.2   \n",
       "2                4.7               3.2                1.3               0.2   \n",
       "3                4.6               3.1                1.5               0.2   \n",
       "4                5.0               3.6                1.4               0.2   \n",
       "\n",
       "   species  \n",
       "0       -1  \n",
       "1       -1  \n",
       "2       -1  \n",
       "3       -1  \n",
       "4       -1  "
      ]
     },
     "execution_count": 3,
     "metadata": {},
     "output_type": "execute_result"
    }
   ],
   "source": [
    "df['species'] = df['species'].replace(to_replace = [0, 1, 2], value = [-1, 1, 1])\n",
    "df.head()"
   ]
  },
  {
   "cell_type": "code",
   "execution_count": 4,
   "id": "6a6344c6-6d6b-4a8e-8ea3-d47b8aa2c98c",
   "metadata": {},
   "outputs": [
    {
     "name": "stdout",
     "output_type": "stream",
     "text": [
      "[[ 5.006  3.428  1.462  0.246 -1.   ]\n",
      " [ 6.262  2.872  4.906  1.676  1.   ]]\n"
     ]
    }
   ],
   "source": [
    "data_mean = np.zeros((2, 5))\n",
    "for i in range(0, 2):\n",
    "    data_mean[i, 4] = 2*i-1\n",
    "    for j in range(0, 4):\n",
    "        data_mean[i, j] = df[df['species'] == data_mean[i, 4]].iloc[:, j].mean()\n",
    "print(data_mean)"
   ]
  },
  {
   "cell_type": "code",
   "execution_count": 5,
   "id": "1d4d5024-0543-488b-a57b-ac951f780853",
   "metadata": {},
   "outputs": [],
   "source": [
    "def Diff_Square_Distance(x, y, l, alpha):\n",
    "    f = np.zeros(l.shape)\n",
    "    for i in range(0, x.shape[0]):\n",
    "        temp = np.dot(l, x[i])\n",
    "        temp = temp-y[i]\n",
    "        temp = temp*x[i]\n",
    "    f = f+temp\n",
    "    f = f+alpha*l\n",
    "    f = 2.0*f\n",
    "    return f"
   ]
  },
  {
   "cell_type": "code",
   "execution_count": 6,
   "id": "88a49bf7-9a6e-43cb-bf08-31844105775e",
   "metadata": {},
   "outputs": [],
   "source": [
    "max_iterations = 100\n",
    "eps = 0.001\n",
    "alpha = 1.0"
   ]
  },
  {
   "cell_type": "code",
   "execution_count": 7,
   "id": "6dc602f6-4cf5-4211-bdab-a8ff72118b29",
   "metadata": {},
   "outputs": [],
   "source": [
    "x = df.drop('species', axis = 1).values.astype(float)\n",
    "y = df['species'].values"
   ]
  },
  {
   "cell_type": "code",
   "execution_count": 8,
   "id": "474f7867-b4ae-4778-8b50-6dae73cb0927",
   "metadata": {},
   "outputs": [],
   "source": [
    "def LSM_Classification(x, y):\n",
    "    i = 0\n",
    "    l = (data_mean[0]-data_mean[1])[:4]\n",
    "    l = l/np.linalg.norm(l)\n",
    "    print(\"Начальное значение l:\", l)\n",
    "    while i < max_iterations:\n",
    "        i += 1\n",
    "        h = 1.0/np.power(i, alpha)\n",
    "        old_l = np.copy(l)\n",
    "        f = Diff_Square_Distance(x, y, l, alpha)\n",
    "        l = l-h*f\n",
    "        l = l/np.linalg.norm(l)\n",
    "        if np.linalg.norm(l-old_l) <= eps:\n",
    "            break\n",
    "    print(\"Пройдено итераций при обучении: \"+str(i)+\".\")\n",
    "    return l\n",
    "def LSM_Predict(x, l):\n",
    "    y = np.zeros(x.shape[0])\n",
    "    for i in range(x.shape[0]):\n",
    "        y[i] = np.sign(np.dot(l, x[i]))\n",
    "    return y"
   ]
  },
  {
   "cell_type": "code",
   "execution_count": 9,
   "id": "11bffcb8-2fdb-4a64-b3a6-324ab27947c8",
   "metadata": {},
   "outputs": [],
   "source": [
    "from sklearn.model_selection import train_test_split\n",
    "from sklearn.metrics import accuracy_score\n",
    "x_train, x_test, y_train, y_test = train_test_split(x, y, test_size = 0.2, random_state = 2, shuffle = True)"
   ]
  },
  {
   "cell_type": "code",
   "execution_count": 10,
   "id": "eea1c261-dd34-4e28-aa1c-12038cc4e941",
   "metadata": {},
   "outputs": [
    {
     "name": "stdout",
     "output_type": "stream",
     "text": [
      "Начальное значение l: [-0.31605403  0.13990927 -0.86663224 -0.35983859]\n",
      "Пройдено итераций при обучении: 98.\n"
     ]
    }
   ],
   "source": [
    "l = LSM_Classification(x_train, y_train)"
   ]
  },
  {
   "cell_type": "code",
   "execution_count": 11,
   "id": "53cdef86-8b8e-491e-9f7d-66a36a953fe4",
   "metadata": {},
   "outputs": [
    {
     "name": "stdout",
     "output_type": "stream",
     "text": [
      "Конечное значение l: [ 0.46715675 -0.87402203  0.12988808 -0.03129129]\n",
      "Точность: 96%.\n"
     ]
    }
   ],
   "source": [
    "print(\"Конечное значение l:\", l)\n",
    "y_predict = LSM_Predict(x_test, l)\n",
    "print(\"Точность: \"+str(int(accuracy_score(y_test, y_predict)*100))+\"%.\")"
   ]
  },
  {
   "cell_type": "code",
   "execution_count": 12,
   "id": "8add9d47-cf10-46d0-a5ed-1c210f503900",
   "metadata": {},
   "outputs": [
    {
     "data": {
      "image/png": "[encoded data removed]",
      "text/plain": [
       "<Figure size 432x288 with 1 Axes>"
      ]
     },
     "metadata": {
      "needs_background": "light"
     },
     "output_type": "display_data"
    }
   ],
   "source": [
    "fig = plt.figure()\n",
    "for i in range(x_train.shape[0]):\n",
    "    if y_train[i] == -1:\n",
    "        plt.scatter(x_train[i][0], x_train[i][1], s = 120, marker = '.', linewidths = 0.5, color = 'blue')\n",
    "    else:\n",
    "        plt.scatter(x_train[i][0], x_train[i][1], s = 120, marker = '.', linewidths = 0.5, color = 'yellow')\n",
    "for i in range(x_test.shape[0]):\n",
    "    if y_predict[i] == -1:\n",
    "        if y_predict[i] != y_test[i]:\n",
    "            plt.scatter(x_test[i][0], x_test[i][1], s = 120, marker = '*', linewidths = 0.5, color = 'darkblue') #Ошибочное распознание как класс 1.\n",
    "        else:\n",
    "            plt.scatter(x_test[i][0], x_test[i][1], s = 120, marker = '*', linewidths = 0.5, color = 'blue') #Правильное распознание как класс 1.\n",
    "    else:\n",
    "        if y_predict[i] != y_test[i]:\n",
    "            plt.scatter(x_test[i][0], x_test[i][1], s = 120, marker = '*', linewidths = 0.5, color = 'olive') #Ошибочное распознание как класс 2.\n",
    "        else:\n",
    "            plt.scatter(x_test[i][0], x_test[i][1], s = 120, marker = '*', linewidths = 0.5, color = 'yellow') #Правильное распознание как класс 2."
   ]
  },
  {
   "cell_type": "code",
   "execution_count": null,
   "id": "368ea58e-db89-4762-bfa3-5575496a9937",
   "metadata": {},
   "outputs": [],
   "source": []
  }
 ],
 "metadata": {
  "kernelspec": {
   "display_name": "Python 3 (ipykernel)",
   "language": "python",
   "name": "python3"
  },
  "language_info": {
   "codemirror_mode": {
    "name": "ipython",
    "version": 3
   },
   "file_extension": ".py",
   "mimetype": "text/x-python",
   "name": "python",
   "nbconvert_exporter": "python",
   "pygments_lexer": "ipython3",
   "version": "3.10.4"
  }
 },
 "nbformat": 4,
 "nbformat_minor": 5
}
