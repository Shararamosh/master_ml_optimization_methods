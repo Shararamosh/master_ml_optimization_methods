{
 "cells": [
  {
   "cell_type": "markdown",
   "id": "3a260e68-ce5a-44e0-b44d-50d85eea9319",
   "metadata": {},
   "source": [
    "Падалко Богдан.\n",
    "Задание №1 - Классификация методом гиперплоскостей для 2 классов."
   ]
  },
  {
   "cell_type": "code",
   "execution_count": 1,
   "id": "87256b80-82b2-46fc-b101-1890f8cb4e1a",
   "metadata": {},
   "outputs": [],
   "source": [
    "import pandas as pd\n",
    "import numpy as np\n",
    "from sklearn import datasets\n",
    "import matplotlib.pyplot as plt\n",
    "%matplotlib inline\n",
    "np.random.seed(42)\n",
    "limit_to_2D = True"
   ]
  },
  {
   "cell_type": "markdown",
   "id": "eff314a1-7dfb-46c4-aafa-6049aab5bf84",
   "metadata": {},
   "source": [
    "Я использовал датасет \"Ирисы Фишера\"."
   ]
  },
  {
   "cell_type": "code",
   "execution_count": 2,
   "id": "4098174e-ad56-4ba8-82d6-d8d4a872702f",
   "metadata": {},
   "outputs": [
    {
     "data": {
      "text/html": [
       "<div>\n",
       "<style scoped>\n",
       "    .dataframe tbody tr th:only-of-type {\n",
       "        vertical-align: middle;\n",
       "    }\n",
       "\n",
       "    .dataframe tbody tr th {\n",
       "        vertical-align: top;\n",
       "    }\n",
       "\n",
       "    .dataframe thead th {\n",
       "        text-align: right;\n",
       "    }\n",
       "</style>\n",
       "<table border=\"1\" class=\"dataframe\">\n",
       "  <thead>\n",
       "    <tr style=\"text-align: right;\">\n",
       "      <th></th>\n",
       "      <th>sepal width (cm)</th>\n",
       "      <th>petal width (cm)</th>\n",
       "      <th>species</th>\n",
       "    </tr>\n",
       "  </thead>\n",
       "  <tbody>\n",
       "    <tr>\n",
       "      <th>0</th>\n",
       "      <td>3.5</td>\n",
       "      <td>0.2</td>\n",
       "      <td>0</td>\n",
       "    </tr>\n",
       "    <tr>\n",
       "      <th>1</th>\n",
       "      <td>3.0</td>\n",
       "      <td>0.2</td>\n",
       "      <td>0</td>\n",
       "    </tr>\n",
       "    <tr>\n",
       "      <th>2</th>\n",
       "      <td>3.2</td>\n",
       "      <td>0.2</td>\n",
       "      <td>0</td>\n",
       "    </tr>\n",
       "    <tr>\n",
       "      <th>3</th>\n",
       "      <td>3.1</td>\n",
       "      <td>0.2</td>\n",
       "      <td>0</td>\n",
       "    </tr>\n",
       "    <tr>\n",
       "      <th>4</th>\n",
       "      <td>3.6</td>\n",
       "      <td>0.2</td>\n",
       "      <td>0</td>\n",
       "    </tr>\n",
       "    <tr>\n",
       "      <th>...</th>\n",
       "      <td>...</td>\n",
       "      <td>...</td>\n",
       "      <td>...</td>\n",
       "    </tr>\n",
       "    <tr>\n",
       "      <th>145</th>\n",
       "      <td>3.0</td>\n",
       "      <td>2.3</td>\n",
       "      <td>2</td>\n",
       "    </tr>\n",
       "    <tr>\n",
       "      <th>146</th>\n",
       "      <td>2.5</td>\n",
       "      <td>1.9</td>\n",
       "      <td>2</td>\n",
       "    </tr>\n",
       "    <tr>\n",
       "      <th>147</th>\n",
       "      <td>3.0</td>\n",
       "      <td>2.0</td>\n",
       "      <td>2</td>\n",
       "    </tr>\n",
       "    <tr>\n",
       "      <th>148</th>\n",
       "      <td>3.4</td>\n",
       "      <td>2.3</td>\n",
       "      <td>2</td>\n",
       "    </tr>\n",
       "    <tr>\n",
       "      <th>149</th>\n",
       "      <td>3.0</td>\n",
       "      <td>1.8</td>\n",
       "      <td>2</td>\n",
       "    </tr>\n",
       "  </tbody>\n",
       "</table>\n",
       "<p>150 rows × 3 columns</p>\n",
       "</div>"
      ],
      "text/plain": [
       "     sepal width (cm)  petal width (cm)  species\n",
       "0                 3.5               0.2        0\n",
       "1                 3.0               0.2        0\n",
       "2                 3.2               0.2        0\n",
       "3                 3.1               0.2        0\n",
       "4                 3.6               0.2        0\n",
       "..                ...               ...      ...\n",
       "145               3.0               2.3        2\n",
       "146               2.5               1.9        2\n",
       "147               3.0               2.0        2\n",
       "148               3.4               2.3        2\n",
       "149               3.0               1.8        2\n",
       "\n",
       "[150 rows x 3 columns]"
      ]
     },
     "metadata": {},
     "output_type": "display_data"
    }
   ],
   "source": [
    "iris = datasets.load_iris()\n",
    "X = iris.data \n",
    "target = iris.target \n",
    "names = iris.target_names\n",
    "df_original = pd.DataFrame(X, columns=iris.feature_names)\n",
    "df_original['species'] = iris.target\n",
    "if limit_to_2D:\n",
    "    df_original.drop(df_original.columns[np.random.randint(len(df_original.columns)-1)], axis = 1, inplace = True)\n",
    "    df_original.drop(df_original.columns[np.random.randint(len(df_original.columns)-1)], axis = 1, inplace = True)\n",
    "display(df_original)"
   ]
  },
  {
   "cell_type": "markdown",
   "id": "6ebe4784-9546-4d71-a54a-e9765ecc3893",
   "metadata": {},
   "source": [
    "В данном датасете 3 класса и, согласно информации с Kaggle, каждый класс по отношению к двум другим линейно разделим. В данной задаче мы ищем решающее правило для разделения на 2 класса, поэтому объединим 2 класса в 1. Для удобства будем кодировать классы числами -1 и 1."
   ]
  },
  {
   "cell_type": "code",
   "execution_count": 3,
   "id": "6b99c69a-5c19-41fb-b847-e8b7a723122d",
   "metadata": {},
   "outputs": [
    {
     "data": {
      "text/html": [
       "<div>\n",
       "<style scoped>\n",
       "    .dataframe tbody tr th:only-of-type {\n",
       "        vertical-align: middle;\n",
       "    }\n",
       "\n",
       "    .dataframe tbody tr th {\n",
       "        vertical-align: top;\n",
       "    }\n",
       "\n",
       "    .dataframe thead th {\n",
       "        text-align: right;\n",
       "    }\n",
       "</style>\n",
       "<table border=\"1\" class=\"dataframe\">\n",
       "  <thead>\n",
       "    <tr style=\"text-align: right;\">\n",
       "      <th></th>\n",
       "      <th>sepal width (cm)</th>\n",
       "      <th>petal width (cm)</th>\n",
       "      <th>species</th>\n",
       "    </tr>\n",
       "  </thead>\n",
       "  <tbody>\n",
       "    <tr>\n",
       "      <th>0</th>\n",
       "      <td>3.5</td>\n",
       "      <td>0.2</td>\n",
       "      <td>-1</td>\n",
       "    </tr>\n",
       "    <tr>\n",
       "      <th>1</th>\n",
       "      <td>3.0</td>\n",
       "      <td>0.2</td>\n",
       "      <td>-1</td>\n",
       "    </tr>\n",
       "    <tr>\n",
       "      <th>2</th>\n",
       "      <td>3.2</td>\n",
       "      <td>0.2</td>\n",
       "      <td>-1</td>\n",
       "    </tr>\n",
       "    <tr>\n",
       "      <th>3</th>\n",
       "      <td>3.1</td>\n",
       "      <td>0.2</td>\n",
       "      <td>-1</td>\n",
       "    </tr>\n",
       "    <tr>\n",
       "      <th>4</th>\n",
       "      <td>3.6</td>\n",
       "      <td>0.2</td>\n",
       "      <td>-1</td>\n",
       "    </tr>\n",
       "    <tr>\n",
       "      <th>...</th>\n",
       "      <td>...</td>\n",
       "      <td>...</td>\n",
       "      <td>...</td>\n",
       "    </tr>\n",
       "    <tr>\n",
       "      <th>145</th>\n",
       "      <td>3.0</td>\n",
       "      <td>2.3</td>\n",
       "      <td>1</td>\n",
       "    </tr>\n",
       "    <tr>\n",
       "      <th>146</th>\n",
       "      <td>2.5</td>\n",
       "      <td>1.9</td>\n",
       "      <td>1</td>\n",
       "    </tr>\n",
       "    <tr>\n",
       "      <th>147</th>\n",
       "      <td>3.0</td>\n",
       "      <td>2.0</td>\n",
       "      <td>1</td>\n",
       "    </tr>\n",
       "    <tr>\n",
       "      <th>148</th>\n",
       "      <td>3.4</td>\n",
       "      <td>2.3</td>\n",
       "      <td>1</td>\n",
       "    </tr>\n",
       "    <tr>\n",
       "      <th>149</th>\n",
       "      <td>3.0</td>\n",
       "      <td>1.8</td>\n",
       "      <td>1</td>\n",
       "    </tr>\n",
       "  </tbody>\n",
       "</table>\n",
       "<p>150 rows × 3 columns</p>\n",
       "</div>"
      ],
      "text/plain": [
       "     sepal width (cm)  petal width (cm)  species\n",
       "0                 3.5               0.2       -1\n",
       "1                 3.0               0.2       -1\n",
       "2                 3.2               0.2       -1\n",
       "3                 3.1               0.2       -1\n",
       "4                 3.6               0.2       -1\n",
       "..                ...               ...      ...\n",
       "145               3.0               2.3        1\n",
       "146               2.5               1.9        1\n",
       "147               3.0               2.0        1\n",
       "148               3.4               2.3        1\n",
       "149               3.0               1.8        1\n",
       "\n",
       "[150 rows x 3 columns]"
      ]
     },
     "metadata": {},
     "output_type": "display_data"
    }
   ],
   "source": [
    "df = df_original.copy()\n",
    "df['species'].replace(to_replace = [0, 1, 2], value = [-1, 1, 1], inplace = True)\n",
    "display(df)"
   ]
  },
  {
   "cell_type": "markdown",
   "id": "c9c0d4b2-92ce-4343-a275-7590cb428cf1",
   "metadata": {},
   "source": [
    "Выделим из полученного датасета набор признаков и набор результирующих классов."
   ]
  },
  {
   "cell_type": "code",
   "execution_count": 4,
   "id": "ce08eab7-1457-4c90-b8f1-970478f4146e",
   "metadata": {},
   "outputs": [],
   "source": [
    "x = df.drop('species', axis = 1).values.astype(float) #Массив размерности 4*150.\n",
    "y = df['species'].values #Массив размерности 150*1."
   ]
  },
  {
   "cell_type": "markdown",
   "id": "ddbcc265-f26e-4cef-be18-a18cbca73e2f",
   "metadata": {},
   "source": [
    "Напишем функции для классификации методом гиперплоскостей:"
   ]
  },
  {
   "cell_type": "code",
   "execution_count": 5,
   "id": "b18a7308-00ad-4648-90e4-fd90d20b3187",
   "metadata": {},
   "outputs": [],
   "source": [
    "def SVM_Classification(X, Y, step = 0.01, epochs_amount = 100, lambda_par = 0.01):\n",
    "    l = np.zeros(X.shape[1]) #Инициализация весов нулями.\n",
    "    b = 0\n",
    "    for i in range(epochs_amount):\n",
    "        for j, X_j in enumerate(X):\n",
    "            #Подсчёт градиентов dl, db.\n",
    "            if Y[j]*(np.dot(X_j, l)-b) >= 1:\n",
    "                dl = 2*lambda_par*l\n",
    "                db = 0\n",
    "            else:\n",
    "                dl = 2*lambda_par*l-np.dot(X_j, Y[j])\n",
    "                db = Y[j]\n",
    "            l = l-step*dl\n",
    "            b = b-step*db\n",
    "    return l, b\n",
    "def SVM_Predict(X, l, b):\n",
    "    return np.sign(np.dot(X, l)-b)"
   ]
  },
  {
   "cell_type": "markdown",
   "id": "5b3c8291-af1e-4379-b661-152250a4c399",
   "metadata": {},
   "source": [
    "Разделим элементы датасета на обучающую и тренировочную выборки."
   ]
  },
  {
   "cell_type": "code",
   "execution_count": 6,
   "id": "d503c42b-53ed-46dd-b134-a8cc5a18ad94",
   "metadata": {},
   "outputs": [],
   "source": [
    "from sklearn.model_selection import train_test_split\n",
    "from sklearn.metrics import accuracy_score\n",
    "x_train, x_test, y_train, y_test = train_test_split(x, y, test_size = 0.5, random_state = 2, shuffle = True)"
   ]
  },
  {
   "cell_type": "markdown",
   "id": "d020e21c-53d6-438e-ab1f-c505ef05b4d7",
   "metadata": {},
   "source": [
    "Вызовем функцию классификации для генерации решающего правила для классов 0 и объединения классов 1 и 2."
   ]
  },
  {
   "cell_type": "code",
   "execution_count": 7,
   "id": "f99b732d-e10b-4384-8b2f-11c789babc88",
   "metadata": {},
   "outputs": [
    {
     "name": "stdout",
     "output_type": "stream",
     "text": [
      "Вектор нормали:\n",
      "[-0.71829981  1.93070773]\n",
      "Свободный член:\n",
      "-0.6990000000000005\n",
      "Точность: 100%.\n"
     ]
    }
   ],
   "source": [
    "w0_12, b0_12 = SVM_Classification(x_train, y_train, 0.001, 1000, 0.01)\n",
    "print(\"Вектор нормали:\")\n",
    "print(w0_12)\n",
    "print(\"Свободный член:\")\n",
    "print(b0_12)\n",
    "y_predict = SVM_Predict(x_test, w0_12, b0_12)\n",
    "print(\"Точность: \"+str(int(accuracy_score(y_test, y_predict)*100))+\"%.\")"
   ]
  },
  {
   "cell_type": "markdown",
   "id": "0787256c-7c6c-4d8c-be9c-2b803b392263",
   "metadata": {},
   "source": [
    "Для наглядности рассмотрим двумерный случай - используем только 2 признака из 4."
   ]
  },
  {
   "cell_type": "code",
   "execution_count": 8,
   "id": "9a4657d7-065b-40d4-a910-77dfc3199dda",
   "metadata": {},
   "outputs": [
    {
     "data": {
      "image/png": "[encoded data removed]",
      "text/plain": [
       "<Figure size 432x288 with 1 Axes>"
      ]
     },
     "metadata": {
      "needs_background": "light"
     },
     "output_type": "display_data"
    }
   ],
   "source": [
    "fig = plt.figure()\n",
    "for i in range(x_train.shape[0]):\n",
    "    if y_train[i] == -1:\n",
    "        plt.scatter(x_train[i][0], x_train[i][1], s = 120, marker = '.', linewidths = 0.5, color = 'red')\n",
    "    else:\n",
    "        plt.scatter(x_train[i][0], x_train[i][1], s = 120, marker = '.', linewidths = 0.5, color = 'green')\n",
    "for i in range(x_test.shape[0]):\n",
    "    if y_predict[i] == -1:\n",
    "        if y_predict[i] != y_test[i]:\n",
    "            plt.scatter(x_test[i][0], x_test[i][1], s = 120, marker = '*', linewidths = 0.5, color = 'darkred') #Ошибочное распознание как класс 0.\n",
    "        else:\n",
    "            plt.scatter(x_test[i][0], x_test[i][1], s = 120, marker = '*', linewidths = 0.5, color = 'red') #Правильное распознание как класс 0.\n",
    "    else:\n",
    "        if y_predict[i] != y_test[i]:\n",
    "            plt.scatter(x_test[i][0], x_test[i][1], s = 120, marker = '*', linewidths = 0.5, color = 'darkgreen') #Ошибочное распознание как класс 1 или 2.\n",
    "        else:\n",
    "            plt.scatter(x_test[i][0], x_test[i][1], s = 120, marker = '*', linewidths = 0.5, color = 'green') #Правильное распознание как класс 1 или 2.\n",
    "if limit_to_2D:\n",
    "    y_func = lambda x, l, b: (-1.0*l[0]*x+b)/l[1]\n",
    "    x_min = np.amin(x)\n",
    "    x_max = np.amax(x)\n",
    "    plt.plot([x_min, x_max], [y_func(x_min, w0_12, b0_12), y_func(x_max, w0_12, b0_12)], color = 'blue')"
   ]
  },
  {
   "cell_type": "markdown",
   "id": "122a07b5-7a5e-4bc2-a125-9b51d3b1a3ea",
   "metadata": {},
   "source": [
    "На данном графике элементы класса \"-1\" показаны красным цветом, а класса \"1\" - зелёным цветом. Кружками обозначены элементы из обучающей выборки, а звёздочками - элементы из тренировочной выборки. Элементы, распознанные неверно, показываются более тёмным цветом."
   ]
  },
  {
   "cell_type": "markdown",
   "id": "b96d8e33-2951-4f35-8229-0e6cfe1ef61e",
   "metadata": {},
   "source": [
    "Задание №2 - Модификация классификации методом гиперплоскостей для 3 классов."
   ]
  },
  {
   "cell_type": "markdown",
   "id": "f7c235af-7e52-4f97-8df0-589e6cfb8847",
   "metadata": {},
   "source": [
    "В данный момент один из классов представляет собой объединение двух классов. Для построения полной классификации ирисов Фишера разъединим эти 2 класса (а если точнее - удалим из исходного датасета данные об одном классе) и построим решающее правило методом гиперплоскостей только для них. Классы закодируем числами -1 и 1 как и в предыдущем задании."
   ]
  },
  {
   "cell_type": "code",
   "execution_count": 9,
   "id": "c6cb1a1f-8e7f-46a8-8088-8c3ea439afbb",
   "metadata": {},
   "outputs": [
    {
     "data": {
      "text/html": [
       "<div>\n",
       "<style scoped>\n",
       "    .dataframe tbody tr th:only-of-type {\n",
       "        vertical-align: middle;\n",
       "    }\n",
       "\n",
       "    .dataframe tbody tr th {\n",
       "        vertical-align: top;\n",
       "    }\n",
       "\n",
       "    .dataframe thead th {\n",
       "        text-align: right;\n",
       "    }\n",
       "</style>\n",
       "<table border=\"1\" class=\"dataframe\">\n",
       "  <thead>\n",
       "    <tr style=\"text-align: right;\">\n",
       "      <th></th>\n",
       "      <th>sepal width (cm)</th>\n",
       "      <th>petal width (cm)</th>\n",
       "      <th>species</th>\n",
       "    </tr>\n",
       "  </thead>\n",
       "  <tbody>\n",
       "    <tr>\n",
       "      <th>50</th>\n",
       "      <td>3.2</td>\n",
       "      <td>1.4</td>\n",
       "      <td>-1</td>\n",
       "    </tr>\n",
       "    <tr>\n",
       "      <th>51</th>\n",
       "      <td>3.2</td>\n",
       "      <td>1.5</td>\n",
       "      <td>-1</td>\n",
       "    </tr>\n",
       "    <tr>\n",
       "      <th>52</th>\n",
       "      <td>3.1</td>\n",
       "      <td>1.5</td>\n",
       "      <td>-1</td>\n",
       "    </tr>\n",
       "    <tr>\n",
       "      <th>53</th>\n",
       "      <td>2.3</td>\n",
       "      <td>1.3</td>\n",
       "      <td>-1</td>\n",
       "    </tr>\n",
       "    <tr>\n",
       "      <th>54</th>\n",
       "      <td>2.8</td>\n",
       "      <td>1.5</td>\n",
       "      <td>-1</td>\n",
       "    </tr>\n",
       "    <tr>\n",
       "      <th>...</th>\n",
       "      <td>...</td>\n",
       "      <td>...</td>\n",
       "      <td>...</td>\n",
       "    </tr>\n",
       "    <tr>\n",
       "      <th>145</th>\n",
       "      <td>3.0</td>\n",
       "      <td>2.3</td>\n",
       "      <td>1</td>\n",
       "    </tr>\n",
       "    <tr>\n",
       "      <th>146</th>\n",
       "      <td>2.5</td>\n",
       "      <td>1.9</td>\n",
       "      <td>1</td>\n",
       "    </tr>\n",
       "    <tr>\n",
       "      <th>147</th>\n",
       "      <td>3.0</td>\n",
       "      <td>2.0</td>\n",
       "      <td>1</td>\n",
       "    </tr>\n",
       "    <tr>\n",
       "      <th>148</th>\n",
       "      <td>3.4</td>\n",
       "      <td>2.3</td>\n",
       "      <td>1</td>\n",
       "    </tr>\n",
       "    <tr>\n",
       "      <th>149</th>\n",
       "      <td>3.0</td>\n",
       "      <td>1.8</td>\n",
       "      <td>1</td>\n",
       "    </tr>\n",
       "  </tbody>\n",
       "</table>\n",
       "<p>100 rows × 3 columns</p>\n",
       "</div>"
      ],
      "text/plain": [
       "     sepal width (cm)  petal width (cm)  species\n",
       "50                3.2               1.4       -1\n",
       "51                3.2               1.5       -1\n",
       "52                3.1               1.5       -1\n",
       "53                2.3               1.3       -1\n",
       "54                2.8               1.5       -1\n",
       "..                ...               ...      ...\n",
       "145               3.0               2.3        1\n",
       "146               2.5               1.9        1\n",
       "147               3.0               2.0        1\n",
       "148               3.4               2.3        1\n",
       "149               3.0               1.8        1\n",
       "\n",
       "[100 rows x 3 columns]"
      ]
     },
     "metadata": {},
     "output_type": "display_data"
    }
   ],
   "source": [
    "df = df_original.copy()\n",
    "df.drop(df.loc[df['species'] == 0].index, inplace=True)\n",
    "df['species'].replace(to_replace = [1, 2], value = [-1, 1], inplace = True)\n",
    "display(df)"
   ]
  },
  {
   "cell_type": "markdown",
   "id": "5676f400-6493-4338-a49e-14db099aa87c",
   "metadata": {},
   "source": [
    "Выделим из полученного датасета набор признаков и набор результирующих классов."
   ]
  },
  {
   "cell_type": "code",
   "execution_count": 10,
   "id": "21bc540f-529e-4460-9ac3-67b8776ce832",
   "metadata": {},
   "outputs": [],
   "source": [
    "x = df.drop('species', axis = 1).values.astype(float) #Массив размерности 4*100.\n",
    "y = df['species'].values #Массив размерности 1*100."
   ]
  },
  {
   "cell_type": "markdown",
   "id": "12a3c654-22fe-4684-af10-5d27f1a638a2",
   "metadata": {},
   "source": [
    "Разделим элементы датасета на обучающую и тренировочную выборки."
   ]
  },
  {
   "cell_type": "code",
   "execution_count": 11,
   "id": "f5d89bfc-0045-48bb-8dfe-e537238b97d0",
   "metadata": {},
   "outputs": [],
   "source": [
    "x_train, x_test, y_train, y_test = train_test_split(x, y, test_size = 0.5, random_state = 2, shuffle = True)"
   ]
  },
  {
   "cell_type": "markdown",
   "id": "7f30141f-f286-4281-a3f3-9e1e4d95cea8",
   "metadata": {},
   "source": [
    "Вызовем функцию классификации для генерации решающего правила для классов 1 и 2."
   ]
  },
  {
   "cell_type": "code",
   "execution_count": 12,
   "id": "4f66ebcd-0bd8-4983-8993-509661a06344",
   "metadata": {},
   "outputs": [
    {
     "name": "stdout",
     "output_type": "stream",
     "text": [
      "Вектор нормали:\n",
      "[-1.02662006  2.88604484]\n",
      "Свободный член:\n",
      "1.8159999999999108\n",
      "Точность: 90%.\n"
     ]
    }
   ],
   "source": [
    "w1_2, b1_2 = SVM_Classification(x_train, y_train, 0.001, 1000, 0.01)\n",
    "print(\"Вектор нормали:\")\n",
    "print(w1_2)\n",
    "print(\"Свободный член:\")\n",
    "print(b1_2)\n",
    "y_predict = SVM_Predict(x_test, w1_2, b1_2)\n",
    "print(\"Точность: \"+str(int(accuracy_score(y_test, y_predict)*100))+\"%.\")"
   ]
  },
  {
   "cell_type": "markdown",
   "id": "34b5093e-4b6d-4e39-9a1c-cacc25d41874",
   "metadata": {},
   "source": [
    "Для наглядности рассмотрим двумерный случай - используем только 2 признака из 4."
   ]
  },
  {
   "cell_type": "code",
   "execution_count": 13,
   "id": "bb017630-fa4b-4a79-869d-88c30b5fd2be",
   "metadata": {},
   "outputs": [
    {
     "data": {
      "image/png": "[encoded data removed]",
      "text/plain": [
       "<Figure size 432x288 with 1 Axes>"
      ]
     },
     "metadata": {
      "needs_background": "light"
     },
     "output_type": "display_data"
    }
   ],
   "source": [
    "fig = plt.figure()\n",
    "for i in range(x_train.shape[0]):\n",
    "    if y_train[i] == -1:\n",
    "        plt.scatter(x_train[i][0], x_train[i][1], s = 120, marker = '.', linewidths = 0.5, color = 'blue')\n",
    "    else:\n",
    "        plt.scatter(x_train[i][0], x_train[i][1], s = 120, marker = '.', linewidths = 0.5, color = 'red')\n",
    "for i in range(x_test.shape[0]):\n",
    "    if y_predict[i] == -1:\n",
    "        if y_predict[i] != y_test[i]:\n",
    "            plt.scatter(x_test[i][0], x_test[i][1], s = 120, marker = '*', linewidths = 0.5, color = 'darkblue') #Ошибочное распознание как класс 1.\n",
    "        else:\n",
    "            plt.scatter(x_test[i][0], x_test[i][1], s = 120, marker = '*', linewidths = 0.5, color = 'blue') #Правильное распознание как класс 1.\n",
    "    else:\n",
    "        if y_predict[i] != y_test[i]:\n",
    "            plt.scatter(x_test[i][0], x_test[i][1], s = 120, marker = '*', linewidths = 0.5, color = 'darkred') #Ошибочное распознание как класс 2.\n",
    "        else:\n",
    "            plt.scatter(x_test[i][0], x_test[i][1], s = 120, marker = '*', linewidths = 0.5, color = 'red') #Правильное распознание как класс 2.\n",
    "if limit_to_2D:\n",
    "    y_func = lambda x, l, b: (-1.0*l[0]*x+b)/l[1]\n",
    "    x_min = np.amin(x)\n",
    "    x_max = np.amax(x)\n",
    "    plt.plot([x_min, x_max], [y_func(x_min, w1_2, b1_2), y_func(x_max, w1_2, b1_2)], color = 'green')"
   ]
  },
  {
   "cell_type": "markdown",
   "id": "7853329a-cf23-4b7a-b550-6f14061e896f",
   "metadata": {},
   "source": [
    "Используя оба найденных решающих правила, применим их ко всему датасету."
   ]
  },
  {
   "cell_type": "code",
   "execution_count": 14,
   "id": "da2f32c1-7aa0-4ced-9074-9a6686ae0709",
   "metadata": {},
   "outputs": [],
   "source": [
    "df = df_original.copy()"
   ]
  },
  {
   "cell_type": "code",
   "execution_count": 15,
   "id": "74b4508f-1ea4-4c6f-ba21-88c2193beacd",
   "metadata": {},
   "outputs": [],
   "source": [
    "x = df.drop('species', axis = 1).values.astype(float) #Массив размерности 4*150.\n",
    "y = df['species'].values #Массив размерности 1*150."
   ]
  },
  {
   "cell_type": "markdown",
   "id": "72e54840-e5da-4a3f-b70d-dadf8c0a69b1",
   "metadata": {},
   "source": [
    "Для наглядности рассмотрим двумерный случай - используем только 2 признака из 4."
   ]
  },
  {
   "cell_type": "code",
   "execution_count": 16,
   "id": "c35b64d0-c957-43ae-abab-d107caaf67ea",
   "metadata": {},
   "outputs": [
    {
     "name": "stdout",
     "output_type": "stream",
     "text": [
      "Итоговая точность разделения: 95%.\n"
     ]
    },
    {
     "data": {
      "image/png": "[encoded data removed]",
      "text/plain": [
       "<Figure size 432x288 with 1 Axes>"
      ]
     },
     "metadata": {
      "needs_background": "light"
     },
     "output_type": "display_data"
    }
   ],
   "source": [
    "y_predict_first = SVM_Predict(x, w0_12, b0_12)\n",
    "y_predict_second = SVM_Predict(x, w1_2, b1_2)\n",
    "fig = plt.figure()\n",
    "for i in range(x.shape[0]):\n",
    "    if y_predict_first[i] == -1:\n",
    "        if y[i] != 0:\n",
    "            plt.scatter(x[i][0], x[i][1], s = 120, marker = '.', linewidths = 0.5, color = 'darkred') #Ошибочное распознание как класс 0.\n",
    "        else:\n",
    "            plt.scatter(x[i][0], x[i][1], s = 120, marker = '.', linewidths = 0.5, color = 'red') #Правильное распознание как класс 0.\n",
    "    else:\n",
    "        if y_predict_second[i] == -1:\n",
    "            if y[i] != 1:\n",
    "                plt.scatter(x[i][0], x[i][1], s = 120, marker = '.', linewidths = 0.5, color = 'darkgreen') #Ошибочное распознание как класс 1.\n",
    "            else:\n",
    "                plt.scatter(x[i][0], x[i][1], s = 120, marker = '.', linewidths = 0.5, color = 'green') #Правильное распознание как класс 1.\n",
    "        else:\n",
    "            if y[i] != 2:\n",
    "                plt.scatter(x[i][0], x[i][1], s = 120, marker = '.', linewidths = 0.5, color = 'darkblue') #Ошибочное распознание как класс 2.\n",
    "            else:\n",
    "                plt.scatter(x[i][0], x[i][1], s = 120, marker = '.', linewidths = 0.5, color = 'blue') #Правильное распознание как класс 2.\n",
    "if limit_to_2D:\n",
    "    y_func = lambda x, l, b: (-1.0*l[0]*x+b)/l[1]\n",
    "    x_min = np.amin(x)\n",
    "    x_max = np.amax(x)\n",
    "    plt.plot([x_min, x_max], [y_func(x_min, w0_12, b0_12), y_func(x_max, w0_12, b0_12)], color = 'purple')\n",
    "    plt.plot([x_min, x_max], [y_func(x_min, w1_2, b1_2), y_func(x_max, w1_2, b1_2)], color = 'orange')\n",
    "y_predict_first[y_predict_first == -1] = 0\n",
    "y_predict_second[y_predict_second == 1] = 2\n",
    "y_predict_second[y_predict_second == -1] = 1\n",
    "y_predict_final = np.multiply(y_predict_first, y_predict_second)\n",
    "print(\"Итоговая точность разделения: \"+str(int(accuracy_score(y, y_predict_final)*100))+\"%.\")"
   ]
  }
 ],
 "metadata": {
  "kernelspec": {
   "display_name": "Python 3 (ipykernel)",
   "language": "python",
   "name": "python3"
  },
  "language_info": {
   "codemirror_mode": {
    "name": "ipython",
    "version": 3
   },
   "file_extension": ".py",
   "mimetype": "text/x-python",
   "name": "python",
   "nbconvert_exporter": "python",
   "pygments_lexer": "ipython3",
   "version": "3.10.4"
  }
 },
 "nbformat": 4,
 "nbformat_minor": 5
}
